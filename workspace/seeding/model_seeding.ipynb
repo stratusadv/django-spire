{
 "cells": [
  {
   "metadata": {
    "ExecuteTime": {
     "end_time": "2025-03-29T22:38:27.987688Z",
     "start_time": "2025-03-29T22:38:27.314932Z"
    }
   },
   "cell_type": "code",
   "source": [
    "from workspace.setup_jupyter_env import *\n",
    "from django_spire.seeding.seeding import ModelSeeding\n",
    "from example.cookbook.recipe.models import Recipe\n",
    "\n",
    "from dandy.llm import Prompt"
   ],
   "id": "4c89d328e97e6c7b",
   "outputs": [],
   "execution_count": 1
  },
  {
   "metadata": {
    "ExecuteTime": {
     "end_time": "2025-03-29T22:38:27.995336Z",
     "start_time": "2025-03-29T22:38:27.992312Z"
    }
   },
   "cell_type": "code",
   "source": [
    "recipe_seed = ModelSeeding(\n",
    "    model_class=Recipe,\n",
    "    fields = {\n",
    "        'name': 'llm',\n",
    "        'description': 'llm',\n",
    "        'course': ('llm', 'Choose a course that matches the name of the recipe.'),\n",
    "        'prep_time': 'faker',\n",
    "        'cook_time': 'faker',\n",
    "        'servings': 'faker',\n",
    "    },\n",
    "    exclude_fields=['id'],\n",
    ")"
   ],
   "id": "98efe6e0e68aae76",
   "outputs": [],
   "execution_count": 2
  },
  {
   "metadata": {
    "ExecuteTime": {
     "end_time": "2025-03-29T22:38:28.117294Z",
     "start_time": "2025-03-29T22:38:28.111677Z"
    }
   },
   "cell_type": "code",
   "source": "recipe_seed.prompt.to_str()",
   "id": "cc45870def6ed38d",
   "outputs": [
    {
     "data": {
      "text/plain": [
       "''"
      ]
     },
     "execution_count": 3,
     "metadata": {},
     "output_type": "execute_result"
    }
   ],
   "execution_count": 3
  },
  {
   "metadata": {
    "ExecuteTime": {
     "end_time": "2025-03-29T22:38:32.555035Z",
     "start_time": "2025-03-29T22:38:28.192155Z"
    }
   },
   "cell_type": "code",
   "source": [
    "\n",
    "from dandy.debug import DebugRecorder\n",
    "\n",
    "DebugRecorder.start_recording(debugger_name='seeding')\n",
    "\n",
    "intel = recipe_seed._llm_seed_data(count=10)\n",
    "\n",
    "DebugRecorder.stop_recording('seeding')\n",
    "DebugRecorder.to_html_file('seeding')"
   ],
   "id": "44d46c3a794cfef9",
   "outputs": [],
   "execution_count": 4
  },
  {
   "metadata": {
    "ExecuteTime": {
     "end_time": "2025-03-29T22:38:35.828319Z",
     "start_time": "2025-03-29T22:38:35.822882Z"
    }
   },
   "cell_type": "code",
   "source": "intel",
   "id": "b66a87adbba6c97",
   "outputs": [
    {
     "data": {
      "text/plain": [
       "{'items': [{'name': 'Lasagna',\n",
       "   'description': 'Classic Italian dish made with layers of pasta, meat sauce, and cheese.',\n",
       "   'course': 'des'},\n",
       "  {'name': 'Fettuccine Alfredo',\n",
       "   'description': 'Rich and creamy fettuccine pasta tossed in a parmesan-based sauce.',\n",
       "   'course': 'des'},\n",
       "  {'name': 'Spaghetti Bolognese',\n",
       "   'description': 'Classic Italian spaghetti dish made with ground beef, tomato sauce, and herbs.',\n",
       "   'course': 'des'},\n",
       "  {'name': 'Chicken Fettuccine',\n",
       "   'description': 'Fettuccine pasta tossed in a creamy chicken-based sauce.',\n",
       "   'course': 'des'},\n",
       "  {'name': 'Beef Stroganoff',\n",
       "   'description': 'Savory beef dish made with sautéed onions, mushrooms, and a creamy sauce served over egg noodles.',\n",
       "   'course': 'des'},\n",
       "  {'name': 'Chicken Parmesan',\n",
       "   'description': 'Breaded and fried chicken topped with marinara sauce and melted mozzarella cheese, served with pasta or as a sandwich.',\n",
       "   'course': 'des'},\n",
       "  {'name': 'Meatball Subs',\n",
       "   'description': 'Italian-style subs filled with meatballs, marinara sauce, and melted mozzarella cheese.',\n",
       "   'course': 'des'},\n",
       "  {'name': 'Chicken Tikka Masala',\n",
       "   'description': 'Indian-inspired dish made with marinated chicken cooked in a creamy tomato-based sauce served over basmati rice or with naan bread.',\n",
       "   'course': 'des'},\n",
       "  {'name': 'Beef Wellington',\n",
       "   'description': 'Filet of beef coated in a layer of duxelles and wrapped in puff pastry, baked until golden brown.',\n",
       "   'course': 'app'},\n",
       "  {'name': 'Eggs Benedict',\n",
       "   'description': 'Poached eggs on toasted English muffins topped with ham or Canadian bacon and hollandaise sauce.',\n",
       "   'course': 'bre'}]}"
      ]
     },
     "execution_count": 5,
     "metadata": {},
     "output_type": "execute_result"
    }
   ],
   "execution_count": 5
  },
  {
   "metadata": {
    "ExecuteTime": {
     "end_time": "2025-03-29T22:34:33.262183Z",
     "start_time": "2025-03-29T22:34:33.258679Z"
    }
   },
   "cell_type": "code",
   "source": "recipies = [Recipe(**intel.model_dump(mode='json')) for intel in intel]",
   "id": "c9e1b542a8cb85d1",
   "outputs": [],
   "execution_count": 6
  },
  {
   "metadata": {
    "ExecuteTime": {
     "end_time": "2025-03-29T22:35:02.644759Z",
     "start_time": "2025-03-29T22:35:02.603813Z"
    }
   },
   "cell_type": "code",
   "source": [
    "\n",
    "Recipe.objects.bulk_create(recipies)"
   ],
   "id": "1b56ad204c3e21b",
   "outputs": [
    {
     "data": {
      "text/plain": [
       "[<Recipe: Lasagna>,\n",
       " <Recipe: Fettuccine Alfredo>,\n",
       " <Recipe: Spaghetti Bolognese>,\n",
       " <Recipe: Chicken Fettuccine>,\n",
       " <Recipe: Beef Stroganoff>,\n",
       " <Recipe: Chicken Parmesan>,\n",
       " <Recipe: Meatball Subs>,\n",
       " <Recipe: Chicken Tikka Masala>,\n",
       " <Recipe: Beef Wellington>,\n",
       " <Recipe: Eggs Benedict>]"
      ]
     },
     "execution_count": 9,
     "metadata": {},
     "output_type": "execute_result"
    }
   ],
   "execution_count": 9
  },
  {
   "metadata": {},
   "cell_type": "code",
   "outputs": [],
   "execution_count": null,
   "source": "objs = Recipe.objects.all()",
   "id": "1596defef6d89133"
  },
  {
   "metadata": {
    "ExecuteTime": {
     "end_time": "2025-03-29T20:14:18.719260Z",
     "start_time": "2025-03-29T20:14:18.715608Z"
    }
   },
   "cell_type": "code",
   "source": [
    "for obj in objs:\n",
    "    print(obj.course)"
   ],
   "id": "b68488269b3afd2a",
   "outputs": [
    {
     "name": "stdout",
     "output_type": "stream",
     "text": [
      "mai\n",
      "mai\n",
      "mai\n",
      "mai\n",
      "mai\n"
     ]
    }
   ],
   "execution_count": 5
  },
  {
   "metadata": {},
   "cell_type": "code",
   "outputs": [],
   "execution_count": null,
   "source": "",
   "id": "e74d0a5ba9ed8581"
  }
 ],
 "metadata": {
  "kernelspec": {
   "display_name": "Python 3",
   "language": "python",
   "name": "python3"
  },
  "language_info": {
   "codemirror_mode": {
    "name": "ipython",
    "version": 2
   },
   "file_extension": ".py",
   "mimetype": "text/x-python",
   "name": "python",
   "nbconvert_exporter": "python",
   "pygments_lexer": "ipython2",
   "version": "2.7.6"
  }
 },
 "nbformat": 4,
 "nbformat_minor": 5
}
