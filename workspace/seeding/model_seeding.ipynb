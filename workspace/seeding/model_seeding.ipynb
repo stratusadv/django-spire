{
 "cells": [
  {
   "metadata": {
    "ExecuteTime": {
     "end_time": "2025-04-04T03:02:17.760635Z",
     "start_time": "2025-04-04T03:02:17.747454Z"
    }
   },
   "cell_type": "code",
   "source": "",
   "id": "6e980a04cef27a0d",
   "outputs": [],
   "execution_count": 11
  },
  {
   "metadata": {
    "ExecuteTime": {
     "end_time": "2025-04-04T03:02:18.217752Z",
     "start_time": "2025-04-04T03:02:18.213182Z"
    }
   },
   "cell_type": "code",
   "source": [
    "from django_spire.contrib.seeding import DjangoModelSeeder\n",
    "from example.cookbook.recipe.models import Recipe"
   ],
   "id": "f83ae014a6c2b45e",
   "outputs": [],
   "execution_count": 12
  },
  {
   "metadata": {
    "ExecuteTime": {
     "end_time": "2025-04-04T03:02:40.232001Z",
     "start_time": "2025-04-04T03:02:40.224818Z"
    }
   },
   "cell_type": "code",
   "source": [
    "class RecipeSeeder(DjangoModelSeeder):\n",
    "    model_class = Recipe\n",
    "    cache_name = 'recipe_seeder'\n",
    "    fields = {\n",
    "        'id': 'exclude',\n",
    "        'user': 8,\n",
    "        'name': 'llm',\n",
    "        'description': ('llm', 'Make soups!'),\n",
    "        'course': 'faker',\n",
    "        'prep_time': ('faker', 'random_int', {'min': 5, 'max': 30}),\n",
    "        'cook_time': 'faker',\n",
    "    }\n",
    "    default_to = 'llm'"
   ],
   "id": "41c8b374ec382cf0",
   "outputs": [],
   "execution_count": 17
  },
  {
   "metadata": {
    "ExecuteTime": {
     "end_time": "2025-04-04T03:02:40.942320Z",
     "start_time": "2025-04-04T03:02:40.937348Z"
    }
   },
   "cell_type": "code",
   "source": "RecipeSeeder.resolved_fields",
   "id": "2774137f54b4ef3a",
   "outputs": [
    {
     "data": {
      "text/plain": [
       "{'user_id': ('static', 8),\n",
       " 'name': ('llm',),\n",
       " 'description': ('llm', 'Make soups!'),\n",
       " 'course': ('faker',),\n",
       " 'prep_time': ('faker', 'random_int', {'min': 5, 'max': 30}),\n",
       " 'cook_time': ('faker',),\n",
       " 'created_datetime': ('llm',),\n",
       " 'is_active': ('llm',),\n",
       " 'servings': ('llm',),\n",
       " 'is_deleted': ('llm',)}"
      ]
     },
     "execution_count": 18,
     "metadata": {},
     "output_type": "execute_result"
    }
   ],
   "execution_count": 18
  },
  {
   "metadata": {
    "ExecuteTime": {
     "end_time": "2025-04-04T02:59:56.800933Z",
     "start_time": "2025-04-04T02:59:45.500877Z"
    }
   },
   "cell_type": "code",
   "source": "data = RecipeSeeder.seed(count=10)",
   "id": "a1c6c0cca281a556",
   "outputs": [],
   "execution_count": 7
  },
  {
   "metadata": {
    "ExecuteTime": {
     "end_time": "2025-04-04T02:59:40.221796Z",
     "start_time": "2025-04-04T02:59:40.173855Z"
    }
   },
   "cell_type": "code",
   "source": "RecipeSeeder.clear_cache()",
   "id": "b46e438ab77fe41f",
   "outputs": [],
   "execution_count": 6
  },
  {
   "metadata": {
    "ExecuteTime": {
     "end_time": "2025-04-03T19:23:31.486506300Z",
     "start_time": "2025-04-03T18:08:06.705511Z"
    }
   },
   "cell_type": "code",
   "source": "RecipeSeeder.clear_cache()",
   "id": "c7423c0262394311",
   "outputs": [],
   "execution_count": 5
  },
  {
   "metadata": {
    "ExecuteTime": {
     "end_time": "2025-04-04T03:00:08.653827Z",
     "start_time": "2025-04-04T03:00:07.702977Z"
    }
   },
   "cell_type": "code",
   "source": "",
   "id": "e87bc69884600ea0",
   "outputs": [
    {
     "ename": "OperationalError",
     "evalue": "connection to server at \"localhost\" (127.0.0.1), port 5432 failed: FATAL:  database \"localhost-django-spire\" does not exist\n",
     "output_type": "error",
     "traceback": [
      "\u001B[31m---------------------------------------------------------------------------\u001B[39m",
      "\u001B[31mKeyError\u001B[39m                                  Traceback (most recent call last)",
      "\u001B[36mFile \u001B[39m\u001B[32m~\\PycharmProjects\\django-spire\\.venv_win\\Lib\\site-packages\\django\\db\\models\\fields\\related_descriptors.py:240\u001B[39m, in \u001B[36mForwardManyToOneDescriptor.__get__\u001B[39m\u001B[34m(self, instance, cls)\u001B[39m\n\u001B[32m    239\u001B[39m \u001B[38;5;28;01mtry\u001B[39;00m:\n\u001B[32m--> \u001B[39m\u001B[32m240\u001B[39m     rel_obj = \u001B[38;5;28;43mself\u001B[39;49m\u001B[43m.\u001B[49m\u001B[43mfield\u001B[49m\u001B[43m.\u001B[49m\u001B[43mget_cached_value\u001B[49m\u001B[43m(\u001B[49m\u001B[43minstance\u001B[49m\u001B[43m)\u001B[49m\n\u001B[32m    241\u001B[39m \u001B[38;5;28;01mexcept\u001B[39;00m \u001B[38;5;167;01mKeyError\u001B[39;00m:\n",
      "\u001B[36mFile \u001B[39m\u001B[32m~\\PycharmProjects\\django-spire\\.venv_win\\Lib\\site-packages\\django\\db\\models\\fields\\mixins.py:37\u001B[39m, in \u001B[36mFieldCacheMixin.get_cached_value\u001B[39m\u001B[34m(self, instance, default)\u001B[39m\n\u001B[32m     36\u001B[39m \u001B[38;5;28;01mtry\u001B[39;00m:\n\u001B[32m---> \u001B[39m\u001B[32m37\u001B[39m     \u001B[38;5;28;01mreturn\u001B[39;00m \u001B[43minstance\u001B[49m\u001B[43m.\u001B[49m\u001B[43m_state\u001B[49m\u001B[43m.\u001B[49m\u001B[43mfields_cache\u001B[49m\u001B[43m[\u001B[49m\u001B[38;5;28;43mself\u001B[39;49m\u001B[43m.\u001B[49m\u001B[43mcache_name\u001B[49m\u001B[43m]\u001B[49m\n\u001B[32m     38\u001B[39m \u001B[38;5;28;01mexcept\u001B[39;00m \u001B[38;5;167;01mKeyError\u001B[39;00m:\n",
      "\u001B[31mKeyError\u001B[39m: 'user'",
      "\nDuring handling of the above exception, another exception occurred:\n",
      "\u001B[31mOperationalError\u001B[39m                          Traceback (most recent call last)",
      "\u001B[36mFile \u001B[39m\u001B[32m~\\PycharmProjects\\django-spire\\.venv_win\\Lib\\site-packages\\django\\db\\backends\\base\\base.py:279\u001B[39m, in \u001B[36mBaseDatabaseWrapper.ensure_connection\u001B[39m\u001B[34m(self)\u001B[39m\n\u001B[32m    278\u001B[39m \u001B[38;5;28;01mwith\u001B[39;00m \u001B[38;5;28mself\u001B[39m.wrap_database_errors:\n\u001B[32m--> \u001B[39m\u001B[32m279\u001B[39m     \u001B[38;5;28;43mself\u001B[39;49m\u001B[43m.\u001B[49m\u001B[43mconnect\u001B[49m\u001B[43m(\u001B[49m\u001B[43m)\u001B[49m\n",
      "\u001B[36mFile \u001B[39m\u001B[32m~\\PycharmProjects\\django-spire\\.venv_win\\Lib\\site-packages\\django\\utils\\asyncio.py:26\u001B[39m, in \u001B[36masync_unsafe.<locals>.decorator.<locals>.inner\u001B[39m\u001B[34m(*args, **kwargs)\u001B[39m\n\u001B[32m     25\u001B[39m \u001B[38;5;66;03m# Pass onward.\u001B[39;00m\n\u001B[32m---> \u001B[39m\u001B[32m26\u001B[39m \u001B[38;5;28;01mreturn\u001B[39;00m \u001B[43mfunc\u001B[49m\u001B[43m(\u001B[49m\u001B[43m*\u001B[49m\u001B[43margs\u001B[49m\u001B[43m,\u001B[49m\u001B[43m \u001B[49m\u001B[43m*\u001B[49m\u001B[43m*\u001B[49m\u001B[43mkwargs\u001B[49m\u001B[43m)\u001B[49m\n",
      "\u001B[36mFile \u001B[39m\u001B[32m~\\PycharmProjects\\django-spire\\.venv_win\\Lib\\site-packages\\django\\db\\backends\\base\\base.py:256\u001B[39m, in \u001B[36mBaseDatabaseWrapper.connect\u001B[39m\u001B[34m(self)\u001B[39m\n\u001B[32m    255\u001B[39m conn_params = \u001B[38;5;28mself\u001B[39m.get_connection_params()\n\u001B[32m--> \u001B[39m\u001B[32m256\u001B[39m \u001B[38;5;28mself\u001B[39m.connection = \u001B[38;5;28;43mself\u001B[39;49m\u001B[43m.\u001B[49m\u001B[43mget_new_connection\u001B[49m\u001B[43m(\u001B[49m\u001B[43mconn_params\u001B[49m\u001B[43m)\u001B[49m\n\u001B[32m    257\u001B[39m \u001B[38;5;28mself\u001B[39m.set_autocommit(\u001B[38;5;28mself\u001B[39m.settings_dict[\u001B[33m\"\u001B[39m\u001B[33mAUTOCOMMIT\u001B[39m\u001B[33m\"\u001B[39m])\n",
      "\u001B[36mFile \u001B[39m\u001B[32m~\\PycharmProjects\\django-spire\\.venv_win\\Lib\\site-packages\\django\\utils\\asyncio.py:26\u001B[39m, in \u001B[36masync_unsafe.<locals>.decorator.<locals>.inner\u001B[39m\u001B[34m(*args, **kwargs)\u001B[39m\n\u001B[32m     25\u001B[39m \u001B[38;5;66;03m# Pass onward.\u001B[39;00m\n\u001B[32m---> \u001B[39m\u001B[32m26\u001B[39m \u001B[38;5;28;01mreturn\u001B[39;00m \u001B[43mfunc\u001B[49m\u001B[43m(\u001B[49m\u001B[43m*\u001B[49m\u001B[43margs\u001B[49m\u001B[43m,\u001B[49m\u001B[43m \u001B[49m\u001B[43m*\u001B[49m\u001B[43m*\u001B[49m\u001B[43mkwargs\u001B[49m\u001B[43m)\u001B[49m\n",
      "\u001B[36mFile \u001B[39m\u001B[32m~\\PycharmProjects\\django-spire\\.venv_win\\Lib\\site-packages\\django\\db\\backends\\postgresql\\base.py:332\u001B[39m, in \u001B[36mDatabaseWrapper.get_new_connection\u001B[39m\u001B[34m(self, conn_params)\u001B[39m\n\u001B[32m    331\u001B[39m \u001B[38;5;28;01melse\u001B[39;00m:\n\u001B[32m--> \u001B[39m\u001B[32m332\u001B[39m     connection = \u001B[38;5;28;43mself\u001B[39;49m\u001B[43m.\u001B[49m\u001B[43mDatabase\u001B[49m\u001B[43m.\u001B[49m\u001B[43mconnect\u001B[49m\u001B[43m(\u001B[49m\u001B[43m*\u001B[49m\u001B[43m*\u001B[49m\u001B[43mconn_params\u001B[49m\u001B[43m)\u001B[49m\n\u001B[32m    333\u001B[39m \u001B[38;5;28;01mif\u001B[39;00m set_isolation_level:\n",
      "\u001B[36mFile \u001B[39m\u001B[32m~\\PycharmProjects\\django-spire\\.venv_win\\Lib\\site-packages\\psycopg2\\__init__.py:122\u001B[39m, in \u001B[36mconnect\u001B[39m\u001B[34m(dsn, connection_factory, cursor_factory, **kwargs)\u001B[39m\n\u001B[32m    121\u001B[39m dsn = _ext.make_dsn(dsn, **kwargs)\n\u001B[32m--> \u001B[39m\u001B[32m122\u001B[39m conn = \u001B[43m_connect\u001B[49m\u001B[43m(\u001B[49m\u001B[43mdsn\u001B[49m\u001B[43m,\u001B[49m\u001B[43m \u001B[49m\u001B[43mconnection_factory\u001B[49m\u001B[43m=\u001B[49m\u001B[43mconnection_factory\u001B[49m\u001B[43m,\u001B[49m\u001B[43m \u001B[49m\u001B[43m*\u001B[49m\u001B[43m*\u001B[49m\u001B[43mkwasync\u001B[49m\u001B[43m)\u001B[49m\n\u001B[32m    123\u001B[39m \u001B[38;5;28;01mif\u001B[39;00m cursor_factory \u001B[38;5;129;01mis\u001B[39;00m \u001B[38;5;129;01mnot\u001B[39;00m \u001B[38;5;28;01mNone\u001B[39;00m:\n",
      "\u001B[31mOperationalError\u001B[39m: connection to server at \"localhost\" (127.0.0.1), port 5432 failed: FATAL:  database \"localhost-django-spire\" does not exist\n",
      "\nThe above exception was the direct cause of the following exception:\n",
      "\u001B[31mOperationalError\u001B[39m                          Traceback (most recent call last)",
      "\u001B[36mCell\u001B[39m\u001B[36m \u001B[39m\u001B[32mIn[10]\u001B[39m\u001B[32m, line 1\u001B[39m\n\u001B[32m----> \u001B[39m\u001B[32m1\u001B[39m \u001B[43mdata\u001B[49m\u001B[43m[\u001B[49m\u001B[32;43m3\u001B[39;49m\u001B[43m]\u001B[49m\u001B[43m.\u001B[49m\u001B[43muser\u001B[49m\n",
      "\u001B[36mFile \u001B[39m\u001B[32m~\\PycharmProjects\\django-spire\\.venv_win\\Lib\\site-packages\\django\\db\\models\\fields\\related_descriptors.py:258\u001B[39m, in \u001B[36mForwardManyToOneDescriptor.__get__\u001B[39m\u001B[34m(self, instance, cls)\u001B[39m\n\u001B[32m    256\u001B[39m     rel_obj = \u001B[38;5;28;01mNone\u001B[39;00m\n\u001B[32m    257\u001B[39m \u001B[38;5;28;01mif\u001B[39;00m rel_obj \u001B[38;5;129;01mis\u001B[39;00m \u001B[38;5;28;01mNone\u001B[39;00m \u001B[38;5;129;01mand\u001B[39;00m has_value:\n\u001B[32m--> \u001B[39m\u001B[32m258\u001B[39m     rel_obj = \u001B[38;5;28;43mself\u001B[39;49m\u001B[43m.\u001B[49m\u001B[43mget_object\u001B[49m\u001B[43m(\u001B[49m\u001B[43minstance\u001B[49m\u001B[43m)\u001B[49m\n\u001B[32m    259\u001B[39m     remote_field = \u001B[38;5;28mself\u001B[39m.field.remote_field\n\u001B[32m    260\u001B[39m     \u001B[38;5;66;03m# If this is a one-to-one relation, set the reverse accessor\u001B[39;00m\n\u001B[32m    261\u001B[39m     \u001B[38;5;66;03m# cache on the related object to the current instance to avoid\u001B[39;00m\n\u001B[32m    262\u001B[39m     \u001B[38;5;66;03m# an extra SQL query if it's accessed later on.\u001B[39;00m\n",
      "\u001B[36mFile \u001B[39m\u001B[32m~\\PycharmProjects\\django-spire\\.venv_win\\Lib\\site-packages\\django\\db\\models\\fields\\related_descriptors.py:221\u001B[39m, in \u001B[36mForwardManyToOneDescriptor.get_object\u001B[39m\u001B[34m(self, instance)\u001B[39m\n\u001B[32m    219\u001B[39m qs = \u001B[38;5;28mself\u001B[39m.get_queryset(instance=instance)\n\u001B[32m    220\u001B[39m \u001B[38;5;66;03m# Assuming the database enforces foreign keys, this won't fail.\u001B[39;00m\n\u001B[32m--> \u001B[39m\u001B[32m221\u001B[39m \u001B[38;5;28;01mreturn\u001B[39;00m \u001B[43mqs\u001B[49m\u001B[43m.\u001B[49m\u001B[43mget\u001B[49m\u001B[43m(\u001B[49m\u001B[38;5;28;43mself\u001B[39;49m\u001B[43m.\u001B[49m\u001B[43mfield\u001B[49m\u001B[43m.\u001B[49m\u001B[43mget_reverse_related_filter\u001B[49m\u001B[43m(\u001B[49m\u001B[43minstance\u001B[49m\u001B[43m)\u001B[49m\u001B[43m)\u001B[49m\n",
      "\u001B[36mFile \u001B[39m\u001B[32m~\\PycharmProjects\\django-spire\\.venv_win\\Lib\\site-packages\\django\\db\\models\\query.py:629\u001B[39m, in \u001B[36mQuerySet.get\u001B[39m\u001B[34m(self, *args, **kwargs)\u001B[39m\n\u001B[32m    627\u001B[39m     limit = MAX_GET_RESULTS\n\u001B[32m    628\u001B[39m     clone.query.set_limits(high=limit)\n\u001B[32m--> \u001B[39m\u001B[32m629\u001B[39m num = \u001B[38;5;28;43mlen\u001B[39;49m\u001B[43m(\u001B[49m\u001B[43mclone\u001B[49m\u001B[43m)\u001B[49m\n\u001B[32m    630\u001B[39m \u001B[38;5;28;01mif\u001B[39;00m num == \u001B[32m1\u001B[39m:\n\u001B[32m    631\u001B[39m     \u001B[38;5;28;01mreturn\u001B[39;00m clone._result_cache[\u001B[32m0\u001B[39m]\n",
      "\u001B[36mFile \u001B[39m\u001B[32m~\\PycharmProjects\\django-spire\\.venv_win\\Lib\\site-packages\\django\\db\\models\\query.py:366\u001B[39m, in \u001B[36mQuerySet.__len__\u001B[39m\u001B[34m(self)\u001B[39m\n\u001B[32m    365\u001B[39m \u001B[38;5;28;01mdef\u001B[39;00m\u001B[38;5;250m \u001B[39m\u001B[34m__len__\u001B[39m(\u001B[38;5;28mself\u001B[39m):\n\u001B[32m--> \u001B[39m\u001B[32m366\u001B[39m     \u001B[38;5;28;43mself\u001B[39;49m\u001B[43m.\u001B[49m\u001B[43m_fetch_all\u001B[49m\u001B[43m(\u001B[49m\u001B[43m)\u001B[49m\n\u001B[32m    367\u001B[39m     \u001B[38;5;28;01mreturn\u001B[39;00m \u001B[38;5;28mlen\u001B[39m(\u001B[38;5;28mself\u001B[39m._result_cache)\n",
      "\u001B[36mFile \u001B[39m\u001B[32m~\\PycharmProjects\\django-spire\\.venv_win\\Lib\\site-packages\\django\\db\\models\\query.py:1935\u001B[39m, in \u001B[36mQuerySet._fetch_all\u001B[39m\u001B[34m(self)\u001B[39m\n\u001B[32m   1933\u001B[39m \u001B[38;5;28;01mdef\u001B[39;00m\u001B[38;5;250m \u001B[39m\u001B[34m_fetch_all\u001B[39m(\u001B[38;5;28mself\u001B[39m):\n\u001B[32m   1934\u001B[39m     \u001B[38;5;28;01mif\u001B[39;00m \u001B[38;5;28mself\u001B[39m._result_cache \u001B[38;5;129;01mis\u001B[39;00m \u001B[38;5;28;01mNone\u001B[39;00m:\n\u001B[32m-> \u001B[39m\u001B[32m1935\u001B[39m         \u001B[38;5;28mself\u001B[39m._result_cache = \u001B[38;5;28;43mlist\u001B[39;49m\u001B[43m(\u001B[49m\u001B[38;5;28;43mself\u001B[39;49m\u001B[43m.\u001B[49m\u001B[43m_iterable_class\u001B[49m\u001B[43m(\u001B[49m\u001B[38;5;28;43mself\u001B[39;49m\u001B[43m)\u001B[49m\u001B[43m)\u001B[49m\n\u001B[32m   1936\u001B[39m     \u001B[38;5;28;01mif\u001B[39;00m \u001B[38;5;28mself\u001B[39m._prefetch_related_lookups \u001B[38;5;129;01mand\u001B[39;00m \u001B[38;5;129;01mnot\u001B[39;00m \u001B[38;5;28mself\u001B[39m._prefetch_done:\n\u001B[32m   1937\u001B[39m         \u001B[38;5;28mself\u001B[39m._prefetch_related_objects()\n",
      "\u001B[36mFile \u001B[39m\u001B[32m~\\PycharmProjects\\django-spire\\.venv_win\\Lib\\site-packages\\django\\db\\models\\query.py:91\u001B[39m, in \u001B[36mModelIterable.__iter__\u001B[39m\u001B[34m(self)\u001B[39m\n\u001B[32m     88\u001B[39m compiler = queryset.query.get_compiler(using=db)\n\u001B[32m     89\u001B[39m \u001B[38;5;66;03m# Execute the query. This will also fill compiler.select, klass_info,\u001B[39;00m\n\u001B[32m     90\u001B[39m \u001B[38;5;66;03m# and annotations.\u001B[39;00m\n\u001B[32m---> \u001B[39m\u001B[32m91\u001B[39m results = \u001B[43mcompiler\u001B[49m\u001B[43m.\u001B[49m\u001B[43mexecute_sql\u001B[49m\u001B[43m(\u001B[49m\n\u001B[32m     92\u001B[39m \u001B[43m    \u001B[49m\u001B[43mchunked_fetch\u001B[49m\u001B[43m=\u001B[49m\u001B[38;5;28;43mself\u001B[39;49m\u001B[43m.\u001B[49m\u001B[43mchunked_fetch\u001B[49m\u001B[43m,\u001B[49m\u001B[43m \u001B[49m\u001B[43mchunk_size\u001B[49m\u001B[43m=\u001B[49m\u001B[38;5;28;43mself\u001B[39;49m\u001B[43m.\u001B[49m\u001B[43mchunk_size\u001B[49m\n\u001B[32m     93\u001B[39m \u001B[43m\u001B[49m\u001B[43m)\u001B[49m\n\u001B[32m     94\u001B[39m select, klass_info, annotation_col_map = (\n\u001B[32m     95\u001B[39m     compiler.select,\n\u001B[32m     96\u001B[39m     compiler.klass_info,\n\u001B[32m     97\u001B[39m     compiler.annotation_col_map,\n\u001B[32m     98\u001B[39m )\n\u001B[32m     99\u001B[39m model_cls = klass_info[\u001B[33m\"\u001B[39m\u001B[33mmodel\u001B[39m\u001B[33m\"\u001B[39m]\n",
      "\u001B[36mFile \u001B[39m\u001B[32m~\\PycharmProjects\\django-spire\\.venv_win\\Lib\\site-packages\\django\\db\\models\\sql\\compiler.py:1620\u001B[39m, in \u001B[36mSQLCompiler.execute_sql\u001B[39m\u001B[34m(self, result_type, chunked_fetch, chunk_size)\u001B[39m\n\u001B[32m   1618\u001B[39m     cursor = \u001B[38;5;28mself\u001B[39m.connection.chunked_cursor()\n\u001B[32m   1619\u001B[39m \u001B[38;5;28;01melse\u001B[39;00m:\n\u001B[32m-> \u001B[39m\u001B[32m1620\u001B[39m     cursor = \u001B[38;5;28;43mself\u001B[39;49m\u001B[43m.\u001B[49m\u001B[43mconnection\u001B[49m\u001B[43m.\u001B[49m\u001B[43mcursor\u001B[49m\u001B[43m(\u001B[49m\u001B[43m)\u001B[49m\n\u001B[32m   1621\u001B[39m \u001B[38;5;28;01mtry\u001B[39;00m:\n\u001B[32m   1622\u001B[39m     cursor.execute(sql, params)\n",
      "\u001B[36mFile \u001B[39m\u001B[32m~\\PycharmProjects\\django-spire\\.venv_win\\Lib\\site-packages\\django\\utils\\asyncio.py:26\u001B[39m, in \u001B[36masync_unsafe.<locals>.decorator.<locals>.inner\u001B[39m\u001B[34m(*args, **kwargs)\u001B[39m\n\u001B[32m     24\u001B[39m         \u001B[38;5;28;01mraise\u001B[39;00m SynchronousOnlyOperation(message)\n\u001B[32m     25\u001B[39m \u001B[38;5;66;03m# Pass onward.\u001B[39;00m\n\u001B[32m---> \u001B[39m\u001B[32m26\u001B[39m \u001B[38;5;28;01mreturn\u001B[39;00m \u001B[43mfunc\u001B[49m\u001B[43m(\u001B[49m\u001B[43m*\u001B[49m\u001B[43margs\u001B[49m\u001B[43m,\u001B[49m\u001B[43m \u001B[49m\u001B[43m*\u001B[49m\u001B[43m*\u001B[49m\u001B[43mkwargs\u001B[49m\u001B[43m)\u001B[49m\n",
      "\u001B[36mFile \u001B[39m\u001B[32m~\\PycharmProjects\\django-spire\\.venv_win\\Lib\\site-packages\\django\\db\\backends\\base\\base.py:320\u001B[39m, in \u001B[36mBaseDatabaseWrapper.cursor\u001B[39m\u001B[34m(self)\u001B[39m\n\u001B[32m    317\u001B[39m \u001B[38;5;129m@async_unsafe\u001B[39m\n\u001B[32m    318\u001B[39m \u001B[38;5;28;01mdef\u001B[39;00m\u001B[38;5;250m \u001B[39m\u001B[34mcursor\u001B[39m(\u001B[38;5;28mself\u001B[39m):\n\u001B[32m    319\u001B[39m \u001B[38;5;250m    \u001B[39m\u001B[33;03m\"\"\"Create a cursor, opening a connection if necessary.\"\"\"\u001B[39;00m\n\u001B[32m--> \u001B[39m\u001B[32m320\u001B[39m     \u001B[38;5;28;01mreturn\u001B[39;00m \u001B[38;5;28;43mself\u001B[39;49m\u001B[43m.\u001B[49m\u001B[43m_cursor\u001B[49m\u001B[43m(\u001B[49m\u001B[43m)\u001B[49m\n",
      "\u001B[36mFile \u001B[39m\u001B[32m~\\PycharmProjects\\django-spire\\.venv_win\\Lib\\site-packages\\django\\db\\backends\\base\\base.py:296\u001B[39m, in \u001B[36mBaseDatabaseWrapper._cursor\u001B[39m\u001B[34m(self, name)\u001B[39m\n\u001B[32m    294\u001B[39m \u001B[38;5;28;01mdef\u001B[39;00m\u001B[38;5;250m \u001B[39m\u001B[34m_cursor\u001B[39m(\u001B[38;5;28mself\u001B[39m, name=\u001B[38;5;28;01mNone\u001B[39;00m):\n\u001B[32m    295\u001B[39m     \u001B[38;5;28mself\u001B[39m.close_if_health_check_failed()\n\u001B[32m--> \u001B[39m\u001B[32m296\u001B[39m     \u001B[38;5;28;43mself\u001B[39;49m\u001B[43m.\u001B[49m\u001B[43mensure_connection\u001B[49m\u001B[43m(\u001B[49m\u001B[43m)\u001B[49m\n\u001B[32m    297\u001B[39m     \u001B[38;5;28;01mwith\u001B[39;00m \u001B[38;5;28mself\u001B[39m.wrap_database_errors:\n\u001B[32m    298\u001B[39m         \u001B[38;5;28;01mreturn\u001B[39;00m \u001B[38;5;28mself\u001B[39m._prepare_cursor(\u001B[38;5;28mself\u001B[39m.create_cursor(name))\n",
      "\u001B[36mFile \u001B[39m\u001B[32m~\\PycharmProjects\\django-spire\\.venv_win\\Lib\\site-packages\\django\\utils\\asyncio.py:26\u001B[39m, in \u001B[36masync_unsafe.<locals>.decorator.<locals>.inner\u001B[39m\u001B[34m(*args, **kwargs)\u001B[39m\n\u001B[32m     24\u001B[39m         \u001B[38;5;28;01mraise\u001B[39;00m SynchronousOnlyOperation(message)\n\u001B[32m     25\u001B[39m \u001B[38;5;66;03m# Pass onward.\u001B[39;00m\n\u001B[32m---> \u001B[39m\u001B[32m26\u001B[39m \u001B[38;5;28;01mreturn\u001B[39;00m \u001B[43mfunc\u001B[49m\u001B[43m(\u001B[49m\u001B[43m*\u001B[49m\u001B[43margs\u001B[49m\u001B[43m,\u001B[49m\u001B[43m \u001B[49m\u001B[43m*\u001B[49m\u001B[43m*\u001B[49m\u001B[43mkwargs\u001B[49m\u001B[43m)\u001B[49m\n",
      "\u001B[36mFile \u001B[39m\u001B[32m~\\PycharmProjects\\django-spire\\.venv_win\\Lib\\site-packages\\django\\db\\backends\\base\\base.py:278\u001B[39m, in \u001B[36mBaseDatabaseWrapper.ensure_connection\u001B[39m\u001B[34m(self)\u001B[39m\n\u001B[32m    274\u001B[39m \u001B[38;5;28;01mif\u001B[39;00m \u001B[38;5;28mself\u001B[39m.in_atomic_block \u001B[38;5;129;01mand\u001B[39;00m \u001B[38;5;28mself\u001B[39m.closed_in_transaction:\n\u001B[32m    275\u001B[39m     \u001B[38;5;28;01mraise\u001B[39;00m ProgrammingError(\n\u001B[32m    276\u001B[39m         \u001B[33m\"\u001B[39m\u001B[33mCannot open a new connection in an atomic block.\u001B[39m\u001B[33m\"\u001B[39m\n\u001B[32m    277\u001B[39m     )\n\u001B[32m--> \u001B[39m\u001B[32m278\u001B[39m \u001B[43m\u001B[49m\u001B[38;5;28;43;01mwith\u001B[39;49;00m\u001B[43m \u001B[49m\u001B[38;5;28;43mself\u001B[39;49m\u001B[43m.\u001B[49m\u001B[43mwrap_database_errors\u001B[49m\u001B[43m:\u001B[49m\n\u001B[32m    279\u001B[39m \u001B[43m    \u001B[49m\u001B[38;5;28;43mself\u001B[39;49m\u001B[43m.\u001B[49m\u001B[43mconnect\u001B[49m\u001B[43m(\u001B[49m\u001B[43m)\u001B[49m\n",
      "\u001B[36mFile \u001B[39m\u001B[32m~\\PycharmProjects\\django-spire\\.venv_win\\Lib\\site-packages\\django\\db\\utils.py:91\u001B[39m, in \u001B[36mDatabaseErrorWrapper.__exit__\u001B[39m\u001B[34m(self, exc_type, exc_value, traceback)\u001B[39m\n\u001B[32m     89\u001B[39m \u001B[38;5;28;01mif\u001B[39;00m dj_exc_type \u001B[38;5;129;01mnot\u001B[39;00m \u001B[38;5;129;01min\u001B[39;00m (DataError, IntegrityError):\n\u001B[32m     90\u001B[39m     \u001B[38;5;28mself\u001B[39m.wrapper.errors_occurred = \u001B[38;5;28;01mTrue\u001B[39;00m\n\u001B[32m---> \u001B[39m\u001B[32m91\u001B[39m \u001B[38;5;28;01mraise\u001B[39;00m dj_exc_value.with_traceback(traceback) \u001B[38;5;28;01mfrom\u001B[39;00m\u001B[38;5;250m \u001B[39m\u001B[34;01mexc_value\u001B[39;00m\n",
      "\u001B[36mFile \u001B[39m\u001B[32m~\\PycharmProjects\\django-spire\\.venv_win\\Lib\\site-packages\\django\\db\\backends\\base\\base.py:279\u001B[39m, in \u001B[36mBaseDatabaseWrapper.ensure_connection\u001B[39m\u001B[34m(self)\u001B[39m\n\u001B[32m    275\u001B[39m     \u001B[38;5;28;01mraise\u001B[39;00m ProgrammingError(\n\u001B[32m    276\u001B[39m         \u001B[33m\"\u001B[39m\u001B[33mCannot open a new connection in an atomic block.\u001B[39m\u001B[33m\"\u001B[39m\n\u001B[32m    277\u001B[39m     )\n\u001B[32m    278\u001B[39m \u001B[38;5;28;01mwith\u001B[39;00m \u001B[38;5;28mself\u001B[39m.wrap_database_errors:\n\u001B[32m--> \u001B[39m\u001B[32m279\u001B[39m     \u001B[38;5;28;43mself\u001B[39;49m\u001B[43m.\u001B[49m\u001B[43mconnect\u001B[49m\u001B[43m(\u001B[49m\u001B[43m)\u001B[49m\n",
      "\u001B[36mFile \u001B[39m\u001B[32m~\\PycharmProjects\\django-spire\\.venv_win\\Lib\\site-packages\\django\\utils\\asyncio.py:26\u001B[39m, in \u001B[36masync_unsafe.<locals>.decorator.<locals>.inner\u001B[39m\u001B[34m(*args, **kwargs)\u001B[39m\n\u001B[32m     24\u001B[39m         \u001B[38;5;28;01mraise\u001B[39;00m SynchronousOnlyOperation(message)\n\u001B[32m     25\u001B[39m \u001B[38;5;66;03m# Pass onward.\u001B[39;00m\n\u001B[32m---> \u001B[39m\u001B[32m26\u001B[39m \u001B[38;5;28;01mreturn\u001B[39;00m \u001B[43mfunc\u001B[49m\u001B[43m(\u001B[49m\u001B[43m*\u001B[49m\u001B[43margs\u001B[49m\u001B[43m,\u001B[49m\u001B[43m \u001B[49m\u001B[43m*\u001B[49m\u001B[43m*\u001B[49m\u001B[43mkwargs\u001B[49m\u001B[43m)\u001B[49m\n",
      "\u001B[36mFile \u001B[39m\u001B[32m~\\PycharmProjects\\django-spire\\.venv_win\\Lib\\site-packages\\django\\db\\backends\\base\\base.py:256\u001B[39m, in \u001B[36mBaseDatabaseWrapper.connect\u001B[39m\u001B[34m(self)\u001B[39m\n\u001B[32m    254\u001B[39m \u001B[38;5;66;03m# Establish the connection\u001B[39;00m\n\u001B[32m    255\u001B[39m conn_params = \u001B[38;5;28mself\u001B[39m.get_connection_params()\n\u001B[32m--> \u001B[39m\u001B[32m256\u001B[39m \u001B[38;5;28mself\u001B[39m.connection = \u001B[38;5;28;43mself\u001B[39;49m\u001B[43m.\u001B[49m\u001B[43mget_new_connection\u001B[49m\u001B[43m(\u001B[49m\u001B[43mconn_params\u001B[49m\u001B[43m)\u001B[49m\n\u001B[32m    257\u001B[39m \u001B[38;5;28mself\u001B[39m.set_autocommit(\u001B[38;5;28mself\u001B[39m.settings_dict[\u001B[33m\"\u001B[39m\u001B[33mAUTOCOMMIT\u001B[39m\u001B[33m\"\u001B[39m])\n\u001B[32m    258\u001B[39m \u001B[38;5;28mself\u001B[39m.init_connection_state()\n",
      "\u001B[36mFile \u001B[39m\u001B[32m~\\PycharmProjects\\django-spire\\.venv_win\\Lib\\site-packages\\django\\utils\\asyncio.py:26\u001B[39m, in \u001B[36masync_unsafe.<locals>.decorator.<locals>.inner\u001B[39m\u001B[34m(*args, **kwargs)\u001B[39m\n\u001B[32m     24\u001B[39m         \u001B[38;5;28;01mraise\u001B[39;00m SynchronousOnlyOperation(message)\n\u001B[32m     25\u001B[39m \u001B[38;5;66;03m# Pass onward.\u001B[39;00m\n\u001B[32m---> \u001B[39m\u001B[32m26\u001B[39m \u001B[38;5;28;01mreturn\u001B[39;00m \u001B[43mfunc\u001B[49m\u001B[43m(\u001B[49m\u001B[43m*\u001B[49m\u001B[43margs\u001B[49m\u001B[43m,\u001B[49m\u001B[43m \u001B[49m\u001B[43m*\u001B[49m\u001B[43m*\u001B[49m\u001B[43mkwargs\u001B[49m\u001B[43m)\u001B[49m\n",
      "\u001B[36mFile \u001B[39m\u001B[32m~\\PycharmProjects\\django-spire\\.venv_win\\Lib\\site-packages\\django\\db\\backends\\postgresql\\base.py:332\u001B[39m, in \u001B[36mDatabaseWrapper.get_new_connection\u001B[39m\u001B[34m(self, conn_params)\u001B[39m\n\u001B[32m    330\u001B[39m     connection = \u001B[38;5;28mself\u001B[39m.pool.getconn()\n\u001B[32m    331\u001B[39m \u001B[38;5;28;01melse\u001B[39;00m:\n\u001B[32m--> \u001B[39m\u001B[32m332\u001B[39m     connection = \u001B[38;5;28;43mself\u001B[39;49m\u001B[43m.\u001B[49m\u001B[43mDatabase\u001B[49m\u001B[43m.\u001B[49m\u001B[43mconnect\u001B[49m\u001B[43m(\u001B[49m\u001B[43m*\u001B[49m\u001B[43m*\u001B[49m\u001B[43mconn_params\u001B[49m\u001B[43m)\u001B[49m\n\u001B[32m    333\u001B[39m \u001B[38;5;28;01mif\u001B[39;00m set_isolation_level:\n\u001B[32m    334\u001B[39m     connection.isolation_level = \u001B[38;5;28mself\u001B[39m.isolation_level\n",
      "\u001B[36mFile \u001B[39m\u001B[32m~\\PycharmProjects\\django-spire\\.venv_win\\Lib\\site-packages\\psycopg2\\__init__.py:122\u001B[39m, in \u001B[36mconnect\u001B[39m\u001B[34m(dsn, connection_factory, cursor_factory, **kwargs)\u001B[39m\n\u001B[32m    119\u001B[39m     kwasync[\u001B[33m'\u001B[39m\u001B[33masync_\u001B[39m\u001B[33m'\u001B[39m] = kwargs.pop(\u001B[33m'\u001B[39m\u001B[33masync_\u001B[39m\u001B[33m'\u001B[39m)\n\u001B[32m    121\u001B[39m dsn = _ext.make_dsn(dsn, **kwargs)\n\u001B[32m--> \u001B[39m\u001B[32m122\u001B[39m conn = \u001B[43m_connect\u001B[49m\u001B[43m(\u001B[49m\u001B[43mdsn\u001B[49m\u001B[43m,\u001B[49m\u001B[43m \u001B[49m\u001B[43mconnection_factory\u001B[49m\u001B[43m=\u001B[49m\u001B[43mconnection_factory\u001B[49m\u001B[43m,\u001B[49m\u001B[43m \u001B[49m\u001B[43m*\u001B[49m\u001B[43m*\u001B[49m\u001B[43mkwasync\u001B[49m\u001B[43m)\u001B[49m\n\u001B[32m    123\u001B[39m \u001B[38;5;28;01mif\u001B[39;00m cursor_factory \u001B[38;5;129;01mis\u001B[39;00m \u001B[38;5;129;01mnot\u001B[39;00m \u001B[38;5;28;01mNone\u001B[39;00m:\n\u001B[32m    124\u001B[39m     conn.cursor_factory = cursor_factory\n",
      "\u001B[31mOperationalError\u001B[39m: connection to server at \"localhost\" (127.0.0.1), port 5432 failed: FATAL:  database \"localhost-django-spire\" does not exist\n"
     ]
    }
   ],
   "execution_count": 10
  },
  {
   "metadata": {},
   "cell_type": "code",
   "outputs": [],
   "execution_count": null,
   "source": [
    "\n",
    "from dandy.debug import DebugRecorder\n",
    "\n",
    "DebugRecorder.start_recording(debugger_name='seeding')\n",
    "\n",
    "intel = recipe_seed._llm_seed_data(count=10)\n",
    "\n",
    "DebugRecorder.stop_recording('seeding')\n",
    "DebugRecorder.to_html_file('seeding')"
   ],
   "id": "88c4158ad3418ee5"
  },
  {
   "metadata": {},
   "cell_type": "code",
   "outputs": [],
   "execution_count": null,
   "source": "intel",
   "id": "16624a9834766aa4"
  },
  {
   "metadata": {
    "ExecuteTime": {
     "end_time": "2025-04-03T19:23:31.510124700Z",
     "start_time": "2025-03-29T22:34:33.258679Z"
    }
   },
   "cell_type": "code",
   "source": "recipies = [Recipe(**intel.model_dump(mode='json')) for intel in intel]",
   "id": "c9e1b542a8cb85d1",
   "outputs": [],
   "execution_count": 6
  },
  {
   "metadata": {
    "ExecuteTime": {
     "end_time": "2025-04-03T19:23:31.514629700Z",
     "start_time": "2025-03-29T22:35:02.603813Z"
    }
   },
   "cell_type": "code",
   "source": [
    "\n",
    "Recipe.objects.bulk_create(recipies)"
   ],
   "id": "1b56ad204c3e21b",
   "outputs": [
    {
     "data": {
      "text/plain": [
       "[<Recipe: Lasagna>,\n",
       " <Recipe: Fettuccine Alfredo>,\n",
       " <Recipe: Spaghetti Bolognese>,\n",
       " <Recipe: Chicken Fettuccine>,\n",
       " <Recipe: Beef Stroganoff>,\n",
       " <Recipe: Chicken Parmesan>,\n",
       " <Recipe: Meatball Subs>,\n",
       " <Recipe: Chicken Tikka Masala>,\n",
       " <Recipe: Beef Wellington>,\n",
       " <Recipe: Eggs Benedict>]"
      ]
     },
     "execution_count": 9,
     "metadata": {},
     "output_type": "execute_result"
    }
   ],
   "execution_count": 9
  },
  {
   "metadata": {},
   "cell_type": "code",
   "outputs": [],
   "execution_count": null,
   "source": "objs = Recipe.objects.all()",
   "id": "1596defef6d89133"
  },
  {
   "metadata": {
    "ExecuteTime": {
     "end_time": "2025-04-03T19:23:31.612714900Z",
     "start_time": "2025-03-29T20:14:18.715608Z"
    }
   },
   "cell_type": "code",
   "source": [
    "for obj in objs:\n",
    "    print(obj.course)"
   ],
   "id": "b68488269b3afd2a",
   "outputs": [
    {
     "name": "stdout",
     "output_type": "stream",
     "text": [
      "mai\n",
      "mai\n",
      "mai\n",
      "mai\n",
      "mai\n"
     ]
    }
   ],
   "execution_count": 5
  },
  {
   "metadata": {},
   "cell_type": "code",
   "outputs": [],
   "execution_count": null,
   "source": "",
   "id": "e74d0a5ba9ed8581"
  }
 ],
 "metadata": {
  "kernelspec": {
   "display_name": "Python 3",
   "language": "python",
   "name": "python3"
  },
  "language_info": {
   "codemirror_mode": {
    "name": "ipython",
    "version": 2
   },
   "file_extension": ".py",
   "mimetype": "text/x-python",
   "name": "python",
   "nbconvert_exporter": "python",
   "pygments_lexer": "ipython2",
   "version": "2.7.6"
  }
 },
 "nbformat": 4,
 "nbformat_minor": 5
}
