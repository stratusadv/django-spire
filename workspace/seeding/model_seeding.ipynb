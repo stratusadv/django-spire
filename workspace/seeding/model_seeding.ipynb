{
 "cells": [
  {
   "metadata": {
    "ExecuteTime": {
     "end_time": "2025-04-02T02:16:18.712586Z",
     "start_time": "2025-04-02T02:16:17.904279Z"
    }
   },
   "cell_type": "code",
   "source": [
    "from workspace.setup_jupyter_env import *\n",
    "\n",
    "from django_spire.seeding import DjangoModelSeeder\n",
    "from example.cookbook.recipe.models import Recipe"
   ],
   "id": "4c89d328e97e6c7b",
   "outputs": [
    {
     "ename": "ImportError",
     "evalue": "cannot import name 'FieldSeederTypesEnum' from partially initialized module 'django_spire.seeding.field' (most likely due to a circular import) (C:\\Users\\WesleyHowery\\PycharmProjects\\django-spire\\django_spire\\seeding\\field\\__init__.py)",
     "output_type": "error",
     "traceback": [
      "\u001B[31m---------------------------------------------------------------------------\u001B[39m",
      "\u001B[31mImportError\u001B[39m                               Traceback (most recent call last)",
      "\u001B[36mCell\u001B[39m\u001B[36m \u001B[39m\u001B[32mIn[1]\u001B[39m\u001B[32m, line 1\u001B[39m\n\u001B[32m----> \u001B[39m\u001B[32m1\u001B[39m \u001B[38;5;28;01mfrom\u001B[39;00m\u001B[38;5;250m \u001B[39m\u001B[34;01mworkspace\u001B[39;00m\u001B[34;01m.\u001B[39;00m\u001B[34;01msetup_jupyter_env\u001B[39;00m\u001B[38;5;250m \u001B[39m\u001B[38;5;28;01mimport\u001B[39;00m *\n\u001B[32m      3\u001B[39m \u001B[38;5;28;01mfrom\u001B[39;00m\u001B[38;5;250m \u001B[39m\u001B[34;01mdjango_spire\u001B[39;00m\u001B[34;01m.\u001B[39;00m\u001B[34;01mseeding\u001B[39;00m\u001B[38;5;250m \u001B[39m\u001B[38;5;28;01mimport\u001B[39;00m DjangoModelSeeder\n\u001B[32m      4\u001B[39m \u001B[38;5;28;01mfrom\u001B[39;00m\u001B[38;5;250m \u001B[39m\u001B[34;01mexample\u001B[39;00m\u001B[34;01m.\u001B[39;00m\u001B[34;01mcookbook\u001B[39;00m\u001B[34;01m.\u001B[39;00m\u001B[34;01mrecipe\u001B[39;00m\u001B[34;01m.\u001B[39;00m\u001B[34;01mmodels\u001B[39;00m\u001B[38;5;250m \u001B[39m\u001B[38;5;28;01mimport\u001B[39;00m Recipe\n",
      "\u001B[36mFile \u001B[39m\u001B[32m~\\PycharmProjects\\django-spire\\workspace\\setup_jupyter_env.py:9\u001B[39m\n\u001B[32m      6\u001B[39m \u001B[38;5;28;01mimport\u001B[39;00m\u001B[38;5;250m \u001B[39m\u001B[34;01mdjango\u001B[39;00m\n\u001B[32m      7\u001B[39m os.environ[\u001B[33m\"\u001B[39m\u001B[33mDJANGO_ALLOW_ASYNC_UNSAFE\u001B[39m\u001B[33m\"\u001B[39m] = \u001B[33m\"\u001B[39m\u001B[33mtrue\u001B[39m\u001B[33m\"\u001B[39m\n\u001B[32m----> \u001B[39m\u001B[32m9\u001B[39m \u001B[43mdjango\u001B[49m\u001B[43m.\u001B[49m\u001B[43msetup\u001B[49m\u001B[43m(\u001B[49m\u001B[43m)\u001B[49m\n",
      "\u001B[36mFile \u001B[39m\u001B[32m~\\PycharmProjects\\django-spire\\.venv_win\\Lib\\site-packages\\django\\__init__.py:24\u001B[39m, in \u001B[36msetup\u001B[39m\u001B[34m(set_prefix)\u001B[39m\n\u001B[32m     20\u001B[39m \u001B[38;5;28;01mif\u001B[39;00m set_prefix:\n\u001B[32m     21\u001B[39m     set_script_prefix(\n\u001B[32m     22\u001B[39m         \u001B[33m\"\u001B[39m\u001B[33m/\u001B[39m\u001B[33m\"\u001B[39m \u001B[38;5;28;01mif\u001B[39;00m settings.FORCE_SCRIPT_NAME \u001B[38;5;129;01mis\u001B[39;00m \u001B[38;5;28;01mNone\u001B[39;00m \u001B[38;5;28;01melse\u001B[39;00m settings.FORCE_SCRIPT_NAME\n\u001B[32m     23\u001B[39m     )\n\u001B[32m---> \u001B[39m\u001B[32m24\u001B[39m \u001B[43mapps\u001B[49m\u001B[43m.\u001B[49m\u001B[43mpopulate\u001B[49m\u001B[43m(\u001B[49m\u001B[43msettings\u001B[49m\u001B[43m.\u001B[49m\u001B[43mINSTALLED_APPS\u001B[49m\u001B[43m)\u001B[49m\n",
      "\u001B[36mFile \u001B[39m\u001B[32m~\\PycharmProjects\\django-spire\\.venv_win\\Lib\\site-packages\\django\\apps\\registry.py:91\u001B[39m, in \u001B[36mApps.populate\u001B[39m\u001B[34m(self, installed_apps)\u001B[39m\n\u001B[32m     89\u001B[39m     app_config = entry\n\u001B[32m     90\u001B[39m \u001B[38;5;28;01melse\u001B[39;00m:\n\u001B[32m---> \u001B[39m\u001B[32m91\u001B[39m     app_config = \u001B[43mAppConfig\u001B[49m\u001B[43m.\u001B[49m\u001B[43mcreate\u001B[49m\u001B[43m(\u001B[49m\u001B[43mentry\u001B[49m\u001B[43m)\u001B[49m\n\u001B[32m     92\u001B[39m \u001B[38;5;28;01mif\u001B[39;00m app_config.label \u001B[38;5;129;01min\u001B[39;00m \u001B[38;5;28mself\u001B[39m.app_configs:\n\u001B[32m     93\u001B[39m     \u001B[38;5;28;01mraise\u001B[39;00m ImproperlyConfigured(\n\u001B[32m     94\u001B[39m         \u001B[33m\"\u001B[39m\u001B[33mApplication labels aren\u001B[39m\u001B[33m'\u001B[39m\u001B[33mt unique, \u001B[39m\u001B[33m\"\u001B[39m\n\u001B[32m     95\u001B[39m         \u001B[33m\"\u001B[39m\u001B[33mduplicates: \u001B[39m\u001B[38;5;132;01m%s\u001B[39;00m\u001B[33m\"\u001B[39m % app_config.label\n\u001B[32m     96\u001B[39m     )\n",
      "\u001B[36mFile \u001B[39m\u001B[32m~\\PycharmProjects\\django-spire\\.venv_win\\Lib\\site-packages\\django\\apps\\config.py:193\u001B[39m, in \u001B[36mAppConfig.create\u001B[39m\u001B[34m(cls, entry)\u001B[39m\n\u001B[32m    190\u001B[39m         \u001B[38;5;28;01mraise\u001B[39;00m \u001B[38;5;167;01mImportError\u001B[39;00m(msg)\n\u001B[32m    191\u001B[39m     \u001B[38;5;28;01melse\u001B[39;00m:\n\u001B[32m    192\u001B[39m         \u001B[38;5;66;03m# Re-trigger the module import exception.\u001B[39;00m\n\u001B[32m--> \u001B[39m\u001B[32m193\u001B[39m         \u001B[43mimport_module\u001B[49m\u001B[43m(\u001B[49m\u001B[43mentry\u001B[49m\u001B[43m)\u001B[49m\n\u001B[32m    195\u001B[39m \u001B[38;5;66;03m# Check for obvious errors. (This check prevents duck typing, but\u001B[39;00m\n\u001B[32m    196\u001B[39m \u001B[38;5;66;03m# it could be removed if it became a problem in practice.)\u001B[39;00m\n\u001B[32m    197\u001B[39m \u001B[38;5;28;01mif\u001B[39;00m \u001B[38;5;129;01mnot\u001B[39;00m \u001B[38;5;28missubclass\u001B[39m(app_config_class, AppConfig):\n",
      "\u001B[36mFile \u001B[39m\u001B[32m~\\AppData\\Local\\Programs\\Python\\Python311\\Lib\\importlib\\__init__.py:126\u001B[39m, in \u001B[36mimport_module\u001B[39m\u001B[34m(name, package)\u001B[39m\n\u001B[32m    124\u001B[39m             \u001B[38;5;28;01mbreak\u001B[39;00m\n\u001B[32m    125\u001B[39m         level += \u001B[32m1\u001B[39m\n\u001B[32m--> \u001B[39m\u001B[32m126\u001B[39m \u001B[38;5;28;01mreturn\u001B[39;00m \u001B[43m_bootstrap\u001B[49m\u001B[43m.\u001B[49m\u001B[43m_gcd_import\u001B[49m\u001B[43m(\u001B[49m\u001B[43mname\u001B[49m\u001B[43m[\u001B[49m\u001B[43mlevel\u001B[49m\u001B[43m:\u001B[49m\u001B[43m]\u001B[49m\u001B[43m,\u001B[49m\u001B[43m \u001B[49m\u001B[43mpackage\u001B[49m\u001B[43m,\u001B[49m\u001B[43m \u001B[49m\u001B[43mlevel\u001B[49m\u001B[43m)\u001B[49m\n",
      "\u001B[36mFile \u001B[39m\u001B[32m~\\PycharmProjects\\django-spire\\django_spire\\seeding\\__init__.py:1\u001B[39m\n\u001B[32m----> \u001B[39m\u001B[32m1\u001B[39m \u001B[38;5;28;01mfrom\u001B[39;00m\u001B[38;5;250m \u001B[39m\u001B[34;01mdjango_spire\u001B[39;00m\u001B[34;01m.\u001B[39;00m\u001B[34;01mseeding\u001B[39;00m\u001B[34;01m.\u001B[39;00m\u001B[34;01mmodel\u001B[39;00m\u001B[34;01m.\u001B[39;00m\u001B[34;01mdjango\u001B[39;00m\u001B[34;01m.\u001B[39;00m\u001B[34;01mseeder\u001B[39;00m\u001B[38;5;250m \u001B[39m\u001B[38;5;28;01mimport\u001B[39;00m DjangoModelSeeder\n\u001B[32m      3\u001B[39m __all__ = [\u001B[33m\"\u001B[39m\u001B[33mDjangoModelSeeder\u001B[39m\u001B[33m\"\u001B[39m]\n",
      "\u001B[36mFile \u001B[39m\u001B[32m~\\PycharmProjects\\django-spire\\django_spire\\seeding\\model\\django\\seeder.py:9\u001B[39m\n\u001B[32m      5\u001B[39m \u001B[38;5;28;01mfrom\u001B[39;00m\u001B[38;5;250m \u001B[39m\u001B[34;01mdandy\u001B[39;00m\u001B[34;01m.\u001B[39;00m\u001B[34;01mllm\u001B[39;00m\u001B[38;5;250m \u001B[39m\u001B[38;5;28;01mimport\u001B[39;00m Prompt\n\u001B[32m      7\u001B[39m \u001B[38;5;28;01mfrom\u001B[39;00m\u001B[38;5;250m \u001B[39m\u001B[34;01mdjango\u001B[39;00m\u001B[34;01m.\u001B[39;00m\u001B[34;01mdb\u001B[39;00m\u001B[34;01m.\u001B[39;00m\u001B[34;01mmodels\u001B[39;00m\u001B[34;01m.\u001B[39;00m\u001B[34;01mbase\u001B[39;00m\u001B[38;5;250m \u001B[39m\u001B[38;5;28;01mimport\u001B[39;00m Model\n\u001B[32m----> \u001B[39m\u001B[32m9\u001B[39m \u001B[38;5;28;01mfrom\u001B[39;00m\u001B[38;5;250m \u001B[39m\u001B[34;01mdjango_spire\u001B[39;00m\u001B[34;01m.\u001B[39;00m\u001B[34;01mseeding\u001B[39;00m\u001B[34;01m.\u001B[39;00m\u001B[34;01mfield\u001B[39;00m\u001B[38;5;250m \u001B[39m\u001B[38;5;28;01mimport\u001B[39;00m (\n\u001B[32m     10\u001B[39m     CallableFieldSeeder,\n\u001B[32m     11\u001B[39m     CustomFieldSeeder,\n\u001B[32m     12\u001B[39m     StaticFieldSeeder\n\u001B[32m     13\u001B[39m )\n\u001B[32m     15\u001B[39m \u001B[38;5;28;01mfrom\u001B[39;00m\u001B[38;5;250m \u001B[39m\u001B[34;01mdjango_spire\u001B[39;00m\u001B[34;01m.\u001B[39;00m\u001B[34;01mseeding\u001B[39;00m\u001B[34;01m.\u001B[39;00m\u001B[34;01mfield\u001B[39;00m\u001B[34;01m.\u001B[39;00m\u001B[34;01mdjango\u001B[39;00m\u001B[34;01m.\u001B[39;00m\u001B[34;01mseeder\u001B[39;00m\u001B[38;5;250m \u001B[39m\u001B[38;5;28;01mimport\u001B[39;00m DjangoFieldFakerSeeder, DjangoFieldLlmSeeder\n\u001B[32m     16\u001B[39m \u001B[38;5;28;01mfrom\u001B[39;00m\u001B[38;5;250m \u001B[39m\u001B[34;01mdjango_spire\u001B[39;00m\u001B[34;01m.\u001B[39;00m\u001B[34;01mseeding\u001B[39;00m\u001B[34;01m.\u001B[39;00m\u001B[34;01mmodel\u001B[39;00m\u001B[34;01m.\u001B[39;00m\u001B[34;01mbase\u001B[39;00m\u001B[38;5;250m \u001B[39m\u001B[38;5;28;01mimport\u001B[39;00m BaseModelSeeder\n",
      "\u001B[36mFile \u001B[39m\u001B[32m~\\PycharmProjects\\django-spire\\django_spire\\seeding\\field\\__init__.py:2\u001B[39m\n\u001B[32m      1\u001B[39m \u001B[38;5;28;01mfrom\u001B[39;00m\u001B[38;5;250m \u001B[39m\u001B[34;01m.\u001B[39;00m\u001B[34;01mcallable\u001B[39;00m\u001B[38;5;250m \u001B[39m\u001B[38;5;28;01mimport\u001B[39;00m CallableFieldSeeder\n\u001B[32m----> \u001B[39m\u001B[32m2\u001B[39m \u001B[38;5;28;01mfrom\u001B[39;00m\u001B[38;5;250m \u001B[39m\u001B[34;01m.\u001B[39;00m\u001B[34;01mcustom\u001B[39;00m\u001B[38;5;250m \u001B[39m\u001B[38;5;28;01mimport\u001B[39;00m CustomFieldSeeder\n\u001B[32m      3\u001B[39m \u001B[38;5;28;01mfrom\u001B[39;00m\u001B[38;5;250m \u001B[39m\u001B[34;01m.\u001B[39;00m\u001B[34;01mdjango\u001B[39;00m\u001B[34;01m.\u001B[39;00m\u001B[34;01mseeder\u001B[39;00m\u001B[38;5;250m \u001B[39m\u001B[38;5;28;01mimport\u001B[39;00m DjangoFieldFakerSeeder, DjangoFieldLlmSeeder\n\u001B[32m      4\u001B[39m \u001B[38;5;28;01mfrom\u001B[39;00m\u001B[38;5;250m \u001B[39m\u001B[34;01m.\u001B[39;00m\u001B[34;01mstatic\u001B[39;00m\u001B[38;5;250m \u001B[39m\u001B[38;5;28;01mimport\u001B[39;00m StaticFieldSeeder\n",
      "\u001B[36mFile \u001B[39m\u001B[32m~\\PycharmProjects\\django-spire\\django_spire\\seeding\\field\\custom.py:1\u001B[39m\n\u001B[32m----> \u001B[39m\u001B[32m1\u001B[39m \u001B[38;5;28;01mfrom\u001B[39;00m\u001B[38;5;250m \u001B[39m\u001B[34;01mdjango_spire\u001B[39;00m\u001B[34;01m.\u001B[39;00m\u001B[34;01mseeding\u001B[39;00m\u001B[34;01m.\u001B[39;00m\u001B[34;01mfield\u001B[39;00m\u001B[38;5;250m \u001B[39m\u001B[38;5;28;01mimport\u001B[39;00m FieldSeederTypesEnum\n\u001B[32m      2\u001B[39m \u001B[38;5;28;01mfrom\u001B[39;00m\u001B[38;5;250m \u001B[39m\u001B[34;01mdjango_spire\u001B[39;00m\u001B[34;01m.\u001B[39;00m\u001B[34;01mseeding\u001B[39;00m\u001B[34;01m.\u001B[39;00m\u001B[34;01mfield\u001B[39;00m\u001B[34;01m.\u001B[39;00m\u001B[34;01mbase\u001B[39;00m\u001B[38;5;250m \u001B[39m\u001B[38;5;28;01mimport\u001B[39;00m BaseFieldSeeder\n\u001B[32m      5\u001B[39m \u001B[38;5;28;01mclass\u001B[39;00m\u001B[38;5;250m \u001B[39m\u001B[34;01mCustomFieldSeeder\u001B[39;00m(BaseFieldSeeder):\n",
      "\u001B[31mImportError\u001B[39m: cannot import name 'FieldSeederTypesEnum' from partially initialized module 'django_spire.seeding.field' (most likely due to a circular import) (C:\\Users\\WesleyHowery\\PycharmProjects\\django-spire\\django_spire\\seeding\\field\\__init__.py)"
     ]
    }
   ],
   "execution_count": 1
  },
  {
   "metadata": {},
   "cell_type": "code",
   "outputs": [],
   "execution_count": null,
   "source": "",
   "id": "7dfdf522f4a75423"
  },
  {
   "metadata": {
    "ExecuteTime": {
     "end_time": "2025-04-01T20:52:35.517390Z",
     "start_time": "2025-04-01T20:52:35.512243Z"
    }
   },
   "cell_type": "code",
   "source": [
    "class RecipeSeeding(DjangoModelSeeder):\n",
    "    model_class = Recipe\n",
    "    fields = {\n",
    "        'id': 'exclude',\n",
    "        'name': 'llm',\n",
    "        'description': ('llm', 'Make soups!'),\n",
    "        'course': 'faker',\n",
    "        'prep_time': ('faker', 'random_int', {'min': 5, 'max': 30}),\n",
    "        'cook_time': 'faker',\n",
    "        'servings': 'faker',\n",
    "    }"
   ],
   "id": "1b221cd29b0c8f6e",
   "outputs": [],
   "execution_count": 3
  },
  {
   "metadata": {
    "ExecuteTime": {
     "end_time": "2025-04-01T20:52:36.404214Z",
     "start_time": "2025-04-01T20:52:36.396652Z"
    }
   },
   "cell_type": "code",
   "source": "seeder = RecipeSeeding()",
   "id": "98efe6e0e68aae76",
   "outputs": [],
   "execution_count": 4
  },
  {
   "metadata": {
    "ExecuteTime": {
     "end_time": "2025-04-01T20:52:37.430871Z",
     "start_time": "2025-04-01T20:52:37.421683Z"
    }
   },
   "cell_type": "code",
   "source": "seeder.fields",
   "id": "c0d6ba33b0ce684c",
   "outputs": [
    {
     "data": {
      "text/plain": [
       "{'name': ('llm',),\n",
       " 'description': ('llm', 'Make soups!'),\n",
       " 'course': ('faker',),\n",
       " 'prep_time': ('faker', 'random_int', {'min': 5, 'max': 30}),\n",
       " 'cook_time': ('faker',),\n",
       " 'servings': ('faker',),\n",
       " 'id': ('llm',),\n",
       " 'is_active': ('llm',),\n",
       " 'is_deleted': ('llm',),\n",
       " 'created_datetime': ('llm',)}"
      ]
     },
     "execution_count": 5,
     "metadata": {},
     "output_type": "execute_result"
    }
   ],
   "execution_count": 5
  },
  {
   "metadata": {
    "ExecuteTime": {
     "end_time": "2025-04-01T20:52:51.605807Z",
     "start_time": "2025-04-01T20:52:42.658550Z"
    }
   },
   "cell_type": "code",
   "source": "data = seeder.seed(count=10)",
   "id": "cc45870def6ed38d",
   "outputs": [],
   "execution_count": 6
  },
  {
   "metadata": {
    "ExecuteTime": {
     "end_time": "2025-04-01T20:52:52.796505Z",
     "start_time": "2025-04-01T20:52:52.792300Z"
    }
   },
   "cell_type": "code",
   "source": "data[0].prep_time",
   "id": "7a01cca5eeb51699",
   "outputs": [
    {
     "data": {
      "text/plain": [
       "8"
      ]
     },
     "execution_count": 7,
     "metadata": {},
     "output_type": "execute_result"
    }
   ],
   "execution_count": 7
  },
  {
   "metadata": {
    "ExecuteTime": {
     "end_time": "2025-03-29T22:44:05.121838Z",
     "start_time": "2025-03-29T22:44:01.394939Z"
    }
   },
   "cell_type": "code",
   "source": [
    "\n",
    "from dandy.debug import DebugRecorder\n",
    "\n",
    "DebugRecorder.start_recording(debugger_name='seeding')\n",
    "\n",
    "intel = recipe_seed._llm_seed_data(count=10)\n",
    "\n",
    "DebugRecorder.stop_recording('seeding')\n",
    "DebugRecorder.to_html_file('seeding')"
   ],
   "id": "44d46c3a794cfef9",
   "outputs": [],
   "execution_count": 8
  },
  {
   "metadata": {
    "ExecuteTime": {
     "end_time": "2025-03-29T22:44:05.691214Z",
     "start_time": "2025-03-29T22:44:05.686605Z"
    }
   },
   "cell_type": "code",
   "source": "intel",
   "id": "b66a87adbba6c97",
   "outputs": [
    {
     "data": {
      "text/plain": [
       "{'items': [{'name': 'Baked Chicken',\n",
       "   'description': 'This is a Cooking course type Baked Chicken recipe.',\n",
       "   'course': 'bre'},\n",
       "  {'name': 'Grilled Salmon',\n",
       "   'description': 'This is a Grilling course type Grilled Salmon recipe.',\n",
       "   'course': 'sal'},\n",
       "  {'name': 'Roasted Vegetables',\n",
       "   'description': 'This is a Roasting course type Roasted Vegetables recipe.',\n",
       "   'course': 'bre'},\n",
       "  {'name': 'Pan-Seared Steak',\n",
       "   'description': 'This is a Pan Searing course type Pan-Seared Steak recipe.',\n",
       "   'course': 'mai'},\n",
       "  {'name': 'Baked Salmon',\n",
       "   'description': 'This is a Baking course type Baked Salmon recipe.',\n",
       "   'course': 'sal'},\n",
       "  {'name': 'Grilled Chicken',\n",
       "   'description': 'This is a Grilling course type Grilled Chicken recipe.',\n",
       "   'course': 'bre'},\n",
       "  {'name': 'Roasted Chicken',\n",
       "   'description': 'This is a Roasting course type Roasted Chicken recipe.',\n",
       "   'course': 'bre'},\n",
       "  {'name': 'Pan-Seared Shrimp',\n",
       "   'description': 'This is a Pan Searing course type Pan-Seared Shrimp recipe.',\n",
       "   'course': 'mai'},\n",
       "  {'name': 'Baked Steak',\n",
       "   'description': 'This is a Baking course type Baked Steak recipe.',\n",
       "   'course': 'mai'},\n",
       "  {'name': 'Grilled Tofu',\n",
       "   'description': 'This is a Grilling course type Grilled Tofu recipe.',\n",
       "   'course': 'bre'}]}"
      ]
     },
     "execution_count": 9,
     "metadata": {},
     "output_type": "execute_result"
    }
   ],
   "execution_count": 9
  },
  {
   "metadata": {
    "ExecuteTime": {
     "end_time": "2025-03-29T22:34:33.262183Z",
     "start_time": "2025-03-29T22:34:33.258679Z"
    }
   },
   "cell_type": "code",
   "source": "recipies = [Recipe(**intel.model_dump(mode='json')) for intel in intel]",
   "id": "c9e1b542a8cb85d1",
   "outputs": [],
   "execution_count": 6
  },
  {
   "metadata": {
    "ExecuteTime": {
     "end_time": "2025-03-29T22:35:02.644759Z",
     "start_time": "2025-03-29T22:35:02.603813Z"
    }
   },
   "cell_type": "code",
   "source": [
    "\n",
    "Recipe.objects.bulk_create(recipies)"
   ],
   "id": "1b56ad204c3e21b",
   "outputs": [
    {
     "data": {
      "text/plain": [
       "[<Recipe: Lasagna>,\n",
       " <Recipe: Fettuccine Alfredo>,\n",
       " <Recipe: Spaghetti Bolognese>,\n",
       " <Recipe: Chicken Fettuccine>,\n",
       " <Recipe: Beef Stroganoff>,\n",
       " <Recipe: Chicken Parmesan>,\n",
       " <Recipe: Meatball Subs>,\n",
       " <Recipe: Chicken Tikka Masala>,\n",
       " <Recipe: Beef Wellington>,\n",
       " <Recipe: Eggs Benedict>]"
      ]
     },
     "execution_count": 9,
     "metadata": {},
     "output_type": "execute_result"
    }
   ],
   "execution_count": 9
  },
  {
   "metadata": {},
   "cell_type": "code",
   "outputs": [],
   "execution_count": null,
   "source": "objs = Recipe.objects.all()",
   "id": "1596defef6d89133"
  },
  {
   "metadata": {
    "ExecuteTime": {
     "end_time": "2025-03-29T20:14:18.719260Z",
     "start_time": "2025-03-29T20:14:18.715608Z"
    }
   },
   "cell_type": "code",
   "source": [
    "for obj in objs:\n",
    "    print(obj.course)"
   ],
   "id": "b68488269b3afd2a",
   "outputs": [
    {
     "name": "stdout",
     "output_type": "stream",
     "text": [
      "mai\n",
      "mai\n",
      "mai\n",
      "mai\n",
      "mai\n"
     ]
    }
   ],
   "execution_count": 5
  },
  {
   "metadata": {},
   "cell_type": "code",
   "outputs": [],
   "execution_count": null,
   "source": "",
   "id": "e74d0a5ba9ed8581"
  }
 ],
 "metadata": {
  "kernelspec": {
   "display_name": "Python 3",
   "language": "python",
   "name": "python3"
  },
  "language_info": {
   "codemirror_mode": {
    "name": "ipython",
    "version": 2
   },
   "file_extension": ".py",
   "mimetype": "text/x-python",
   "name": "python",
   "nbconvert_exporter": "python",
   "pygments_lexer": "ipython2",
   "version": "2.7.6"
  }
 },
 "nbformat": 4,
 "nbformat_minor": 5
}
