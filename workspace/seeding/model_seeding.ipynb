{
 "cells": [
  {
   "metadata": {
    "ExecuteTime": {
     "end_time": "2025-04-02T02:47:21.048228Z",
     "start_time": "2025-04-02T02:47:20.316438Z"
    }
   },
   "cell_type": "code",
   "source": [
    "from workspace.setup_jupyter_env import *\n",
    "\n",
    "from django_spire.seeding import DjangoModelSeeder\n",
    "from example.cookbook.recipe.models import Recipe"
   ],
   "id": "4c89d328e97e6c7b",
   "outputs": [],
   "execution_count": 1
  },
  {
   "metadata": {
    "ExecuteTime": {
     "end_time": "2025-04-02T02:47:21.054593Z",
     "start_time": "2025-04-02T02:47:21.048228Z"
    }
   },
   "cell_type": "code",
   "source": "",
   "id": "7dfdf522f4a75423",
   "outputs": [],
   "execution_count": null
  },
  {
   "metadata": {
    "ExecuteTime": {
     "end_time": "2025-04-02T02:47:21.060077Z",
     "start_time": "2025-04-02T02:47:21.056616Z"
    }
   },
   "cell_type": "code",
   "source": [
    "class RecipeSeeder(DjangoModelSeeder):\n",
    "    model_class = Recipe\n",
    "    fields = {\n",
    "        'id': 'exclude',\n",
    "        'name': 'llm',\n",
    "        'description': ('llm', 'Make soups!'),\n",
    "        'course': 'faker',\n",
    "        'prep_time': ('faker', 'random_int', {'min': 5, 'max': 30}),\n",
    "        'cook_time': 'faker',\n",
    "        'servings': 'faker',\n",
    "    }\n",
    "    default_to = 'llm'"
   ],
   "id": "1b221cd29b0c8f6e",
   "outputs": [],
   "execution_count": 2
  },
  {
   "metadata": {
    "ExecuteTime": {
     "end_time": "2025-04-02T02:47:22.100735Z",
     "start_time": "2025-04-02T02:47:22.090125Z"
    }
   },
   "cell_type": "code",
   "source": "RecipeSeeder.fields",
   "id": "98efe6e0e68aae76",
   "outputs": [
    {
     "data": {
      "text/plain": [
       "{'name': ('llm',),\n",
       " 'description': ('llm', 'Make soups!'),\n",
       " 'course': ('faker',),\n",
       " 'prep_time': ('faker', 'random_int', {'min': 5, 'max': 30}),\n",
       " 'cook_time': ('faker',),\n",
       " 'servings': ('faker',),\n",
       " 'is_active': ('llm',),\n",
       " 'is_deleted': ('llm',),\n",
       " 'created_datetime': ('llm',)}"
      ]
     },
     "execution_count": 3,
     "metadata": {},
     "output_type": "execute_result"
    }
   ],
   "execution_count": 3
  },
  {
   "metadata": {
    "ExecuteTime": {
     "end_time": "2025-04-02T02:47:30.858290Z",
     "start_time": "2025-04-02T02:47:23.668032Z"
    }
   },
   "cell_type": "code",
   "source": "data = RecipeSeeder.seed(count=10)",
   "id": "cc45870def6ed38d",
   "outputs": [
    {
     "name": "stdout",
     "output_type": "stream",
     "text": [
      "[[{}, {}, {}, {}, {}, {}, {}, {}, {}, {}], [{}, {}, {}, {}, {}, {}, {}, {}, {}, {}], [{}, {}, {}, {}, {}, {}, {}, {}, {}, {}], [{'course': 'app', 'prep_time': 23, 'cook_time': -337613127, 'servings': 1038538753}, {'course': 'app', 'prep_time': 18, 'cook_time': -408696408, 'servings': -309331554}, {'course': 'des', 'prep_time': 20, 'cook_time': -1809552432, 'servings': 1887761950}, {'course': 'app', 'prep_time': 29, 'cook_time': -649184062, 'servings': 163263012}, {'course': 'sal', 'prep_time': 30, 'cook_time': -835071123, 'servings': -1242209247}, {'course': 'mai', 'prep_time': 14, 'cook_time': 273221643, 'servings': -288060924}, {'course': 'mai', 'prep_time': 19, 'cook_time': 1770798084, 'servings': -381402607}, {'course': 'bre', 'prep_time': 13, 'cook_time': -776220064, 'servings': -553424828}, {'course': 'mai', 'prep_time': 23, 'cook_time': -1057744736, 'servings': 1353205301}, {'course': 'sou', 'prep_time': 10, 'cook_time': 1194875903, 'servings': -122602408}], [{'is_active': True, 'is_deleted': False, 'created_datetime': '2025-04-01T12:00:00Z', 'name': 'Creamy Tomato Soup', 'description': \"Make soups! This recipe is a classic creamy tomato soup that's perfect for any occasion.\"}, {'is_active': True, 'is_deleted': False, 'created_datetime': '2025-04-01T13:00:00Z', 'name': 'Butternut Squash Soup', 'description': \"Make soups! This recipe is a delicious and comforting butternut squash soup that's great for fall.\"}, {'is_active': True, 'is_deleted': False, 'created_datetime': '2025-04-01T14:00:00Z', 'name': 'Spicy Black Bean Soup', 'description': \"Make soups! This recipe is a flavorful and spicy black bean soup that's perfect for any time of year.\"}, {'is_active': True, 'is_deleted': False, 'created_datetime': '2025-04-01T15:00:00Z', 'name': 'French Onion Soup', 'description': \"Make soups! This recipe is a classic French onion soup that's rich and flavorful.\"}, {'is_active': True, 'is_deleted': False, 'created_datetime': '2025-04-01T16:00:00Z', 'name': 'Roasted Carrot Soup', 'description': \"Make soups! This recipe is a delicious and healthy roasted carrot soup that's perfect for spring.\"}, {'is_active': True, 'is_deleted': False, 'created_datetime': '2025-04-01T17:00:00Z', 'name': 'Chicken Noodle Soup', 'description': \"Make soups! This recipe is a classic chicken noodle soup that's perfect for when you're feeling under the weather.\"}, {'is_active': True, 'is_deleted': False, 'created_datetime': '2025-04-01T18:00:00Z', 'name': 'Lentil Soup', 'description': \"Make soups! This recipe is a hearty and comforting lentil soup that's perfect for any occasion.\"}, {'is_active': True, 'is_deleted': False, 'created_datetime': '2025-04-01T19:00:00Z', 'name': 'Broccoli Cheddar Soup', 'description': \"Make soups! This recipe is a delicious and creamy broccoli cheddar soup that's perfect for any time of year.\"}, {'is_active': True, 'is_deleted': False, 'created_datetime': '2025-04-01T20:00:00Z', 'name': 'Minestrone Soup', 'description': \"Make soups! This recipe is a classic Italian minestrone soup that's perfect for any occasion.\"}, {'is_active': True, 'is_deleted': False, 'created_datetime': '2025-04-01T21:00:00Z', 'name': 'Cream of Mushroom Soup', 'description': \"Make soups! This recipe is a rich and flavorful cream of mushroom soup that's perfect for any time of year.\"}]]\n"
     ]
    }
   ],
   "execution_count": 4
  },
  {
   "metadata": {
    "ExecuteTime": {
     "end_time": "2025-04-02T02:47:36.389192Z",
     "start_time": "2025-04-02T02:47:36.381744Z"
    }
   },
   "cell_type": "code",
   "source": "data[7].prep_time",
   "id": "7a01cca5eeb51699",
   "outputs": [
    {
     "data": {
      "text/plain": [
       "13"
      ]
     },
     "execution_count": 6,
     "metadata": {},
     "output_type": "execute_result"
    }
   ],
   "execution_count": 6
  },
  {
   "metadata": {
    "ExecuteTime": {
     "end_time": "2025-03-29T22:44:05.121838Z",
     "start_time": "2025-03-29T22:44:01.394939Z"
    }
   },
   "cell_type": "code",
   "source": [
    "\n",
    "from dandy.debug import DebugRecorder\n",
    "\n",
    "DebugRecorder.start_recording(debugger_name='seeding')\n",
    "\n",
    "intel = recipe_seed._llm_seed_data(count=10)\n",
    "\n",
    "DebugRecorder.stop_recording('seeding')\n",
    "DebugRecorder.to_html_file('seeding')"
   ],
   "id": "44d46c3a794cfef9",
   "outputs": [],
   "execution_count": 8
  },
  {
   "metadata": {
    "ExecuteTime": {
     "end_time": "2025-03-29T22:44:05.691214Z",
     "start_time": "2025-03-29T22:44:05.686605Z"
    }
   },
   "cell_type": "code",
   "source": "intel",
   "id": "b66a87adbba6c97",
   "outputs": [
    {
     "data": {
      "text/plain": [
       "{'items': [{'name': 'Baked Chicken',\n",
       "   'description': 'This is a Cooking course type Baked Chicken recipe.',\n",
       "   'course': 'bre'},\n",
       "  {'name': 'Grilled Salmon',\n",
       "   'description': 'This is a Grilling course type Grilled Salmon recipe.',\n",
       "   'course': 'sal'},\n",
       "  {'name': 'Roasted Vegetables',\n",
       "   'description': 'This is a Roasting course type Roasted Vegetables recipe.',\n",
       "   'course': 'bre'},\n",
       "  {'name': 'Pan-Seared Steak',\n",
       "   'description': 'This is a Pan Searing course type Pan-Seared Steak recipe.',\n",
       "   'course': 'mai'},\n",
       "  {'name': 'Baked Salmon',\n",
       "   'description': 'This is a Baking course type Baked Salmon recipe.',\n",
       "   'course': 'sal'},\n",
       "  {'name': 'Grilled Chicken',\n",
       "   'description': 'This is a Grilling course type Grilled Chicken recipe.',\n",
       "   'course': 'bre'},\n",
       "  {'name': 'Roasted Chicken',\n",
       "   'description': 'This is a Roasting course type Roasted Chicken recipe.',\n",
       "   'course': 'bre'},\n",
       "  {'name': 'Pan-Seared Shrimp',\n",
       "   'description': 'This is a Pan Searing course type Pan-Seared Shrimp recipe.',\n",
       "   'course': 'mai'},\n",
       "  {'name': 'Baked Steak',\n",
       "   'description': 'This is a Baking course type Baked Steak recipe.',\n",
       "   'course': 'mai'},\n",
       "  {'name': 'Grilled Tofu',\n",
       "   'description': 'This is a Grilling course type Grilled Tofu recipe.',\n",
       "   'course': 'bre'}]}"
      ]
     },
     "execution_count": 9,
     "metadata": {},
     "output_type": "execute_result"
    }
   ],
   "execution_count": 9
  },
  {
   "metadata": {
    "ExecuteTime": {
     "end_time": "2025-03-29T22:34:33.262183Z",
     "start_time": "2025-03-29T22:34:33.258679Z"
    }
   },
   "cell_type": "code",
   "source": "recipies = [Recipe(**intel.model_dump(mode='json')) for intel in intel]",
   "id": "c9e1b542a8cb85d1",
   "outputs": [],
   "execution_count": 6
  },
  {
   "metadata": {
    "ExecuteTime": {
     "end_time": "2025-03-29T22:35:02.644759Z",
     "start_time": "2025-03-29T22:35:02.603813Z"
    }
   },
   "cell_type": "code",
   "source": [
    "\n",
    "Recipe.objects.bulk_create(recipies)"
   ],
   "id": "1b56ad204c3e21b",
   "outputs": [
    {
     "data": {
      "text/plain": [
       "[<Recipe: Lasagna>,\n",
       " <Recipe: Fettuccine Alfredo>,\n",
       " <Recipe: Spaghetti Bolognese>,\n",
       " <Recipe: Chicken Fettuccine>,\n",
       " <Recipe: Beef Stroganoff>,\n",
       " <Recipe: Chicken Parmesan>,\n",
       " <Recipe: Meatball Subs>,\n",
       " <Recipe: Chicken Tikka Masala>,\n",
       " <Recipe: Beef Wellington>,\n",
       " <Recipe: Eggs Benedict>]"
      ]
     },
     "execution_count": 9,
     "metadata": {},
     "output_type": "execute_result"
    }
   ],
   "execution_count": 9
  },
  {
   "metadata": {},
   "cell_type": "code",
   "outputs": [],
   "execution_count": null,
   "source": "objs = Recipe.objects.all()",
   "id": "1596defef6d89133"
  },
  {
   "metadata": {
    "ExecuteTime": {
     "end_time": "2025-03-29T20:14:18.719260Z",
     "start_time": "2025-03-29T20:14:18.715608Z"
    }
   },
   "cell_type": "code",
   "source": [
    "for obj in objs:\n",
    "    print(obj.course)"
   ],
   "id": "b68488269b3afd2a",
   "outputs": [
    {
     "name": "stdout",
     "output_type": "stream",
     "text": [
      "mai\n",
      "mai\n",
      "mai\n",
      "mai\n",
      "mai\n"
     ]
    }
   ],
   "execution_count": 5
  },
  {
   "metadata": {},
   "cell_type": "code",
   "outputs": [],
   "execution_count": null,
   "source": "",
   "id": "e74d0a5ba9ed8581"
  }
 ],
 "metadata": {
  "kernelspec": {
   "display_name": "Python 3",
   "language": "python",
   "name": "python3"
  },
  "language_info": {
   "codemirror_mode": {
    "name": "ipython",
    "version": 2
   },
   "file_extension": ".py",
   "mimetype": "text/x-python",
   "name": "python",
   "nbconvert_exporter": "python",
   "pygments_lexer": "ipython2",
   "version": "2.7.6"
  }
 },
 "nbformat": 4,
 "nbformat_minor": 5
}
