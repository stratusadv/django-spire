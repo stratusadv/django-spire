{
 "cells": [
  {
   "cell_type": "code",
   "id": "initial_id",
   "metadata": {
    "collapsed": true,
    "ExecuteTime": {
     "end_time": "2025-03-29T19:37:31.745609Z",
     "start_time": "2025-03-29T19:37:31.310939Z"
    }
   },
   "source": "from workspace.setup_jupyter_env import *",
   "outputs": [],
   "execution_count": 1
  },
  {
   "metadata": {
    "ExecuteTime": {
     "end_time": "2025-03-29T19:37:32.704127Z",
     "start_time": "2025-03-29T19:37:32.420739Z"
    }
   },
   "cell_type": "code",
   "source": [
    "from django_spire.seeding.processor import SeedingProcessor\n",
    "from example.cookbook.recipe.models import Recipe\n",
    "\n",
    "from dandy.llm import Prompt"
   ],
   "id": "4c89d328e97e6c7b",
   "outputs": [],
   "execution_count": 2
  },
  {
   "metadata": {
    "ExecuteTime": {
     "end_time": "2025-03-29T19:37:33.284658Z",
     "start_time": "2025-03-29T19:37:33.279049Z"
    }
   },
   "cell_type": "code",
   "source": [
    "recipe_seed = SeedingProcessor(\n",
    "    model_class=Recipe,\n",
    "    seeding_prompt=Prompt(),\n",
    "    exclude_fields=['id']\n",
    ")"
   ],
   "id": "98efe6e0e68aae76",
   "outputs": [],
   "execution_count": 3
  },
  {
   "metadata": {},
   "cell_type": "code",
   "source": "objs = recipe_seed.to_model_objects()",
   "id": "44d46c3a794cfef9",
   "outputs": [],
   "execution_count": null
  },
  {
   "metadata": {
    "ExecuteTime": {
     "end_time": "2025-03-29T19:37:36.816945Z",
     "start_time": "2025-03-29T19:37:36.812793Z"
    }
   },
   "cell_type": "code",
   "source": [
    "for obj in objs:\n",
    "    print(obj.course)"
   ],
   "id": "b68488269b3afd2a",
   "outputs": [
    {
     "name": "stdout",
     "output_type": "stream",
     "text": [
      "mai\n",
      "mai\n",
      "mai\n",
      "mai\n",
      "mai\n"
     ]
    }
   ],
   "execution_count": 5
  }
 ],
 "metadata": {
  "kernelspec": {
   "display_name": "Python 3",
   "language": "python",
   "name": "python3"
  },
  "language_info": {
   "codemirror_mode": {
    "name": "ipython",
    "version": 2
   },
   "file_extension": ".py",
   "mimetype": "text/x-python",
   "name": "python",
   "nbconvert_exporter": "python",
   "pygments_lexer": "ipython2",
   "version": "2.7.6"
  }
 },
 "nbformat": 4,
 "nbformat_minor": 5
}
