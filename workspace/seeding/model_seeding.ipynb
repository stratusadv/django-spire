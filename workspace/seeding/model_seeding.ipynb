{
 "cells": [
  {
   "metadata": {
    "ExecuteTime": {
     "end_time": "2025-04-02T22:12:15.913249Z",
     "start_time": "2025-04-02T22:12:14.813536Z"
    }
   },
   "cell_type": "code",
   "source": [
    "from workspace.setup_jupyter_env import *\n",
    "\n",
    "from django_spire.seeding import DjangoModelSeeder\n",
    "from example.cookbook.recipe.models import Recipe"
   ],
   "id": "4c89d328e97e6c7b",
   "outputs": [],
   "execution_count": 1
  },
  {
   "metadata": {
    "ExecuteTime": {
     "end_time": "2025-04-02T22:12:16.279111Z",
     "start_time": "2025-04-02T22:12:15.919138Z"
    }
   },
   "cell_type": "code",
   "source": [
    "from django_spire.seeding.intelligence.prompts.generate_django_model_seeder_prompts import \\\n",
    "    generate_django_model_seeder_system_prompt\n",
    "\n",
    "generate_django_model_seeder_system_prompt().to_str()"
   ],
   "id": "ff2be123eec5eed1",
   "outputs": [
    {
     "ename": "LlmCriticalException",
     "evalue": "File \"docs/api/seeding/overview.md\" does not exist",
     "output_type": "error",
     "traceback": [
      "\u001B[31m---------------------------------------------------------------------------\u001B[39m",
      "\u001B[31mLlmCriticalException\u001B[39m                      Traceback (most recent call last)",
      "\u001B[36mCell\u001B[39m\u001B[36m \u001B[39m\u001B[32mIn[2]\u001B[39m\u001B[32m, line 4\u001B[39m\n\u001B[32m      1\u001B[39m \u001B[38;5;28;01mfrom\u001B[39;00m\u001B[38;5;250m \u001B[39m\u001B[34;01mdjango_spire\u001B[39;00m\u001B[34;01m.\u001B[39;00m\u001B[34;01mseeding\u001B[39;00m\u001B[34;01m.\u001B[39;00m\u001B[34;01mintelligence\u001B[39;00m\u001B[34;01m.\u001B[39;00m\u001B[34;01mprompts\u001B[39;00m\u001B[34;01m.\u001B[39;00m\u001B[34;01mgenerate_django_model_seeder_prompts\u001B[39;00m\u001B[38;5;250m \u001B[39m\u001B[38;5;28;01mimport\u001B[39;00m \\\n\u001B[32m      2\u001B[39m     generate_django_model_seeder_system_prompt\n\u001B[32m----> \u001B[39m\u001B[32m4\u001B[39m \u001B[43mgenerate_django_model_seeder_system_prompt\u001B[49m\u001B[43m(\u001B[49m\u001B[43m)\u001B[49m\u001B[43m.\u001B[49m\u001B[43mto_str\u001B[49m\u001B[43m(\u001B[49m\u001B[43m)\u001B[49m\n",
      "\u001B[36mFile \u001B[39m\u001B[32m~\\PycharmProjects\\django-spire\\.venv_win\\Lib\\site-packages\\dandy\\llm\\prompt\\prompt.py:28\u001B[39m, in \u001B[36mPrompt.to_str\u001B[39m\u001B[34m(self)\u001B[39m\n\u001B[32m     27\u001B[39m \u001B[38;5;28;01mdef\u001B[39;00m\u001B[38;5;250m \u001B[39m\u001B[34mto_str\u001B[39m(\u001B[38;5;28mself\u001B[39m) -> \u001B[38;5;28mstr\u001B[39m:\n\u001B[32m---> \u001B[39m\u001B[32m28\u001B[39m     prompt_string = \u001B[33m'\u001B[39m\u001B[33m'\u001B[39m.join(\u001B[43m[\u001B[49m\u001B[43m_\u001B[49m\u001B[43m.\u001B[49m\u001B[43mto_str\u001B[49m\u001B[43m(\u001B[49m\u001B[43m)\u001B[49m\u001B[43m \u001B[49m\u001B[38;5;28;43;01mfor\u001B[39;49;00m\u001B[43m \u001B[49m\u001B[43m_\u001B[49m\u001B[43m \u001B[49m\u001B[38;5;129;43;01min\u001B[39;49;00m\u001B[43m \u001B[49m\u001B[38;5;28;43mself\u001B[39;49m\u001B[43m.\u001B[49m\u001B[43msnippets\u001B[49m\u001B[43m]\u001B[49m)\n\u001B[32m     30\u001B[39m     \u001B[38;5;28;01mif\u001B[39;00m \u001B[38;5;28misinstance\u001B[39m(\u001B[38;5;28mself\u001B[39m.tag, \u001B[38;5;28mstr\u001B[39m):\n\u001B[32m     31\u001B[39m         \u001B[38;5;28;01mreturn\u001B[39;00m \u001B[33mf\u001B[39m\u001B[33m'\u001B[39m\u001B[33m<\u001B[39m\u001B[38;5;132;01m{\u001B[39;00m\u001B[38;5;28mself\u001B[39m.tag\u001B[38;5;132;01m}\u001B[39;00m\u001B[33m>\u001B[39m\u001B[38;5;130;01m\\n\u001B[39;00m\u001B[38;5;132;01m{\u001B[39;00mprompt_string\u001B[38;5;132;01m}\u001B[39;00m\u001B[38;5;130;01m\\n\u001B[39;00m\u001B[33m</\u001B[39m\u001B[38;5;132;01m{\u001B[39;00m\u001B[38;5;28mself\u001B[39m.tag\u001B[38;5;132;01m}\u001B[39;00m\u001B[33m>\u001B[39m\u001B[38;5;130;01m\\n\u001B[39;00m\u001B[33m'\u001B[39m\n",
      "\u001B[36mFile \u001B[39m\u001B[32m~\\PycharmProjects\\django-spire\\.venv_win\\Lib\\site-packages\\dandy\\llm\\prompt\\prompt.py:28\u001B[39m, in \u001B[36m<listcomp>\u001B[39m\u001B[34m(.0)\u001B[39m\n\u001B[32m     27\u001B[39m \u001B[38;5;28;01mdef\u001B[39;00m\u001B[38;5;250m \u001B[39m\u001B[34mto_str\u001B[39m(\u001B[38;5;28mself\u001B[39m) -> \u001B[38;5;28mstr\u001B[39m:\n\u001B[32m---> \u001B[39m\u001B[32m28\u001B[39m     prompt_string = \u001B[33m'\u001B[39m\u001B[33m'\u001B[39m.join([\u001B[43m_\u001B[49m\u001B[43m.\u001B[49m\u001B[43mto_str\u001B[49m\u001B[43m(\u001B[49m\u001B[43m)\u001B[49m \u001B[38;5;28;01mfor\u001B[39;00m _ \u001B[38;5;129;01min\u001B[39;00m \u001B[38;5;28mself\u001B[39m.snippets])\n\u001B[32m     30\u001B[39m     \u001B[38;5;28;01mif\u001B[39;00m \u001B[38;5;28misinstance\u001B[39m(\u001B[38;5;28mself\u001B[39m.tag, \u001B[38;5;28mstr\u001B[39m):\n\u001B[32m     31\u001B[39m         \u001B[38;5;28;01mreturn\u001B[39;00m \u001B[33mf\u001B[39m\u001B[33m'\u001B[39m\u001B[33m<\u001B[39m\u001B[38;5;132;01m{\u001B[39;00m\u001B[38;5;28mself\u001B[39m.tag\u001B[38;5;132;01m}\u001B[39;00m\u001B[33m>\u001B[39m\u001B[38;5;130;01m\\n\u001B[39;00m\u001B[38;5;132;01m{\u001B[39;00mprompt_string\u001B[38;5;132;01m}\u001B[39;00m\u001B[38;5;130;01m\\n\u001B[39;00m\u001B[33m</\u001B[39m\u001B[38;5;132;01m{\u001B[39;00m\u001B[38;5;28mself\u001B[39m.tag\u001B[38;5;132;01m}\u001B[39;00m\u001B[33m>\u001B[39m\u001B[38;5;130;01m\\n\u001B[39;00m\u001B[33m'\u001B[39m\n",
      "\u001B[36mFile \u001B[39m\u001B[32m~\\PycharmProjects\\django-spire\\.venv_win\\Lib\\site-packages\\dandy\\llm\\prompt\\snippet.py:36\u001B[39m, in \u001B[36mBaseSnippet.to_str\u001B[39m\u001B[34m(self)\u001B[39m\n\u001B[32m     34\u001B[39m     \u001B[38;5;28;01mreturn\u001B[39;00m \u001B[33mf\u001B[39m\u001B[33m'\u001B[39m\u001B[33m\"\u001B[39m\u001B[33m\"\u001B[39m\u001B[33m\"\u001B[39m\u001B[38;5;130;01m\\n\u001B[39;00m\u001B[38;5;132;01m{\u001B[39;00m\u001B[38;5;28mself\u001B[39m._to_str()\u001B[38;5;132;01m}\u001B[39;00m\u001B[33m\"\u001B[39m\u001B[33m\"\u001B[39m\u001B[33m\"\u001B[39m\u001B[38;5;130;01m\\n\u001B[39;00m\u001B[33m'\u001B[39m\n\u001B[32m     35\u001B[39m \u001B[38;5;28;01melse\u001B[39;00m:\n\u001B[32m---> \u001B[39m\u001B[32m36\u001B[39m     \u001B[38;5;28;01mreturn\u001B[39;00m \u001B[38;5;28;43mself\u001B[39;49m\u001B[43m.\u001B[49m\u001B[43m_to_str\u001B[49m\u001B[43m(\u001B[49m\u001B[43m)\u001B[49m\n",
      "\u001B[36mFile \u001B[39m\u001B[32m~\\PycharmProjects\\django-spire\\.venv_win\\Lib\\site-packages\\dandy\\llm\\prompt\\snippet.py:81\u001B[39m, in \u001B[36mFileSnippet._to_str\u001B[39m\u001B[34m(self)\u001B[39m\n\u001B[32m     79\u001B[39m         \u001B[38;5;28;01mreturn\u001B[39;00m f.read() + \u001B[33m'\u001B[39m\u001B[38;5;130;01m\\n\u001B[39;00m\u001B[33m'\u001B[39m\n\u001B[32m     80\u001B[39m \u001B[38;5;28;01melse\u001B[39;00m:\n\u001B[32m---> \u001B[39m\u001B[32m81\u001B[39m     \u001B[38;5;28;01mraise\u001B[39;00m LlmCriticalException(\u001B[33mf\u001B[39m\u001B[33m'\u001B[39m\u001B[33mFile \u001B[39m\u001B[33m\"\u001B[39m\u001B[38;5;132;01m{\u001B[39;00m\u001B[38;5;28mself\u001B[39m.file_path\u001B[38;5;132;01m}\u001B[39;00m\u001B[33m\"\u001B[39m\u001B[33m does not exist\u001B[39m\u001B[33m'\u001B[39m)\n",
      "\u001B[31mLlmCriticalException\u001B[39m: File \"docs/api/seeding/overview.md\" does not exist"
     ]
    }
   ],
   "execution_count": 2
  },
  {
   "metadata": {
    "ExecuteTime": {
     "end_time": "2025-04-02T22:03:33.635139Z",
     "start_time": "2025-04-02T22:03:33.629566Z"
    }
   },
   "cell_type": "code",
   "source": [
    "class RecipeSeeder(DjangoModelSeeder):\n",
    "    model_class = Recipe\n",
    "    fields = {\n",
    "        'id': 'exclude',\n",
    "        'name': 'llm',\n",
    "        'description': ('llm', 'Make soups!'),\n",
    "        'course': 'faker',\n",
    "        'prep_time': ('faker', 'random_int', {'min': 5, 'max': 30}),\n",
    "        'cook_time': 'faker',\n",
    "        'servings': 'faker',\n",
    "    }\n",
    "    default_to = 'llm'"
   ],
   "id": "56f0c62e1e56c7ac",
   "outputs": [],
   "execution_count": 2
  },
  {
   "metadata": {
    "ExecuteTime": {
     "end_time": "2025-04-02T22:03:34.380141Z",
     "start_time": "2025-04-02T22:03:34.374130Z"
    }
   },
   "cell_type": "code",
   "source": "RecipeSeeder.fields",
   "id": "5e217623338f1cae",
   "outputs": [
    {
     "data": {
      "text/plain": [
       "{'name': ('llm',),\n",
       " 'description': ('llm', 'Make soups!'),\n",
       " 'course': ('faker',),\n",
       " 'prep_time': ('faker', 'random_int', {'min': 5, 'max': 30}),\n",
       " 'cook_time': ('faker',),\n",
       " 'servings': ('faker',),\n",
       " 'is_active': ('llm',),\n",
       " 'is_deleted': ('llm',),\n",
       " 'created_datetime': ('llm',)}"
      ]
     },
     "execution_count": 3,
     "metadata": {},
     "output_type": "execute_result"
    }
   ],
   "execution_count": 3
  },
  {
   "metadata": {
    "ExecuteTime": {
     "end_time": "2025-04-02T22:03:52.061200Z",
     "start_time": "2025-04-02T22:03:35.510669Z"
    }
   },
   "cell_type": "code",
   "source": "data = RecipeSeeder.seed(count=10)",
   "id": "cc45870def6ed38d",
   "outputs": [],
   "execution_count": 4
  },
  {
   "metadata": {
    "ExecuteTime": {
     "end_time": "2025-04-02T22:03:52.811486Z",
     "start_time": "2025-04-02T22:03:52.807544Z"
    }
   },
   "cell_type": "code",
   "source": "data[7].prep_time",
   "id": "7a01cca5eeb51699",
   "outputs": [
    {
     "data": {
      "text/plain": [
       "11"
      ]
     },
     "execution_count": 5,
     "metadata": {},
     "output_type": "execute_result"
    }
   ],
   "execution_count": 5
  },
  {
   "metadata": {
    "ExecuteTime": {
     "end_time": "2025-03-29T22:44:05.121838Z",
     "start_time": "2025-03-29T22:44:01.394939Z"
    }
   },
   "cell_type": "code",
   "source": [
    "\n",
    "from dandy.debug import DebugRecorder\n",
    "\n",
    "DebugRecorder.start_recording(debugger_name='seeding')\n",
    "\n",
    "intel = recipe_seed._llm_seed_data(count=10)\n",
    "\n",
    "DebugRecorder.stop_recording('seeding')\n",
    "DebugRecorder.to_html_file('seeding')"
   ],
   "id": "44d46c3a794cfef9",
   "outputs": [],
   "execution_count": 8
  },
  {
   "metadata": {
    "ExecuteTime": {
     "end_time": "2025-03-29T22:44:05.691214Z",
     "start_time": "2025-03-29T22:44:05.686605Z"
    }
   },
   "cell_type": "code",
   "source": "intel",
   "id": "b66a87adbba6c97",
   "outputs": [
    {
     "data": {
      "text/plain": [
       "{'items': [{'name': 'Baked Chicken',\n",
       "   'description': 'This is a Cooking course type Baked Chicken recipe.',\n",
       "   'course': 'bre'},\n",
       "  {'name': 'Grilled Salmon',\n",
       "   'description': 'This is a Grilling course type Grilled Salmon recipe.',\n",
       "   'course': 'sal'},\n",
       "  {'name': 'Roasted Vegetables',\n",
       "   'description': 'This is a Roasting course type Roasted Vegetables recipe.',\n",
       "   'course': 'bre'},\n",
       "  {'name': 'Pan-Seared Steak',\n",
       "   'description': 'This is a Pan Searing course type Pan-Seared Steak recipe.',\n",
       "   'course': 'mai'},\n",
       "  {'name': 'Baked Salmon',\n",
       "   'description': 'This is a Baking course type Baked Salmon recipe.',\n",
       "   'course': 'sal'},\n",
       "  {'name': 'Grilled Chicken',\n",
       "   'description': 'This is a Grilling course type Grilled Chicken recipe.',\n",
       "   'course': 'bre'},\n",
       "  {'name': 'Roasted Chicken',\n",
       "   'description': 'This is a Roasting course type Roasted Chicken recipe.',\n",
       "   'course': 'bre'},\n",
       "  {'name': 'Pan-Seared Shrimp',\n",
       "   'description': 'This is a Pan Searing course type Pan-Seared Shrimp recipe.',\n",
       "   'course': 'mai'},\n",
       "  {'name': 'Baked Steak',\n",
       "   'description': 'This is a Baking course type Baked Steak recipe.',\n",
       "   'course': 'mai'},\n",
       "  {'name': 'Grilled Tofu',\n",
       "   'description': 'This is a Grilling course type Grilled Tofu recipe.',\n",
       "   'course': 'bre'}]}"
      ]
     },
     "execution_count": 9,
     "metadata": {},
     "output_type": "execute_result"
    }
   ],
   "execution_count": 9
  },
  {
   "metadata": {
    "ExecuteTime": {
     "end_time": "2025-03-29T22:34:33.262183Z",
     "start_time": "2025-03-29T22:34:33.258679Z"
    }
   },
   "cell_type": "code",
   "source": "recipies = [Recipe(**intel.model_dump(mode='json')) for intel in intel]",
   "id": "c9e1b542a8cb85d1",
   "outputs": [],
   "execution_count": 6
  },
  {
   "metadata": {
    "ExecuteTime": {
     "end_time": "2025-03-29T22:35:02.644759Z",
     "start_time": "2025-03-29T22:35:02.603813Z"
    }
   },
   "cell_type": "code",
   "source": [
    "\n",
    "Recipe.objects.bulk_create(recipies)"
   ],
   "id": "1b56ad204c3e21b",
   "outputs": [
    {
     "data": {
      "text/plain": [
       "[<Recipe: Lasagna>,\n",
       " <Recipe: Fettuccine Alfredo>,\n",
       " <Recipe: Spaghetti Bolognese>,\n",
       " <Recipe: Chicken Fettuccine>,\n",
       " <Recipe: Beef Stroganoff>,\n",
       " <Recipe: Chicken Parmesan>,\n",
       " <Recipe: Meatball Subs>,\n",
       " <Recipe: Chicken Tikka Masala>,\n",
       " <Recipe: Beef Wellington>,\n",
       " <Recipe: Eggs Benedict>]"
      ]
     },
     "execution_count": 9,
     "metadata": {},
     "output_type": "execute_result"
    }
   ],
   "execution_count": 9
  },
  {
   "metadata": {},
   "cell_type": "code",
   "outputs": [],
   "execution_count": null,
   "source": "objs = Recipe.objects.all()",
   "id": "1596defef6d89133"
  },
  {
   "metadata": {
    "ExecuteTime": {
     "end_time": "2025-03-29T20:14:18.719260Z",
     "start_time": "2025-03-29T20:14:18.715608Z"
    }
   },
   "cell_type": "code",
   "source": [
    "for obj in objs:\n",
    "    print(obj.course)"
   ],
   "id": "b68488269b3afd2a",
   "outputs": [
    {
     "name": "stdout",
     "output_type": "stream",
     "text": [
      "mai\n",
      "mai\n",
      "mai\n",
      "mai\n",
      "mai\n"
     ]
    }
   ],
   "execution_count": 5
  },
  {
   "metadata": {},
   "cell_type": "code",
   "outputs": [],
   "execution_count": null,
   "source": "",
   "id": "e74d0a5ba9ed8581"
  }
 ],
 "metadata": {
  "kernelspec": {
   "display_name": "Python 3",
   "language": "python",
   "name": "python3"
  },
  "language_info": {
   "codemirror_mode": {
    "name": "ipython",
    "version": 2
   },
   "file_extension": ".py",
   "mimetype": "text/x-python",
   "name": "python",
   "nbconvert_exporter": "python",
   "pygments_lexer": "ipython2",
   "version": "2.7.6"
  }
 },
 "nbformat": 4,
 "nbformat_minor": 5
}
