{
 "cells": [
  {
   "metadata": {
    "ExecuteTime": {
     "end_time": "2025-04-01T17:48:49.038934Z",
     "start_time": "2025-04-01T17:48:47.714651Z"
    }
   },
   "cell_type": "code",
   "source": [
    "from workspace.setup_jupyter_env import *\n",
    "\n",
    "from django_spire.seeding import ModelSeeding\n",
    "from example.cookbook.recipe.models import Recipe"
   ],
   "id": "4c89d328e97e6c7b",
   "outputs": [],
   "execution_count": 1
  },
  {
   "metadata": {
    "ExecuteTime": {
     "end_time": "2025-04-01T17:49:23.203961Z",
     "start_time": "2025-04-01T17:49:23.199527Z"
    }
   },
   "cell_type": "code",
   "source": [
    "class RecipeSeeding(ModelSeeding):\n",
    "    model_class = Recipe\n",
    "    fields = {\n",
    "        'id': 'exclude',\n",
    "        'name': 'llm',\n",
    "        'description': ('llm', 'Make soups!'),\n",
    "        'course': 'faker',\n",
    "        'prep_time': ('faker', 'random_int', {'min': 5, 'max': 30}),\n",
    "        'cook_time': 'faker',\n",
    "        'servings': 'faker',\n",
    "    }"
   ],
   "id": "1b221cd29b0c8f6e",
   "outputs": [],
   "execution_count": 8
  },
  {
   "metadata": {
    "ExecuteTime": {
     "end_time": "2025-04-01T17:49:23.516901Z",
     "start_time": "2025-04-01T17:49:23.513445Z"
    }
   },
   "cell_type": "code",
   "source": "seeder = RecipeSeeding()",
   "id": "98efe6e0e68aae76",
   "outputs": [],
   "execution_count": 9
  },
  {
   "metadata": {
    "ExecuteTime": {
     "end_time": "2025-04-01T17:49:23.858012Z",
     "start_time": "2025-04-01T17:49:23.853140Z"
    }
   },
   "cell_type": "code",
   "source": "seeder.fields",
   "id": "c0d6ba33b0ce684c",
   "outputs": [
    {
     "data": {
      "text/plain": [
       "{'name': ('llm',),\n",
       " 'description': ('llm', 'Make soups!'),\n",
       " 'course': ('faker',),\n",
       " 'prep_time': ('faker', 'random_int', {'min': 5, 'max': 30}),\n",
       " 'cook_time': ('faker',),\n",
       " 'servings': ('faker',)}"
      ]
     },
     "execution_count": 10,
     "metadata": {},
     "output_type": "execute_result"
    }
   ],
   "execution_count": 10
  },
  {
   "metadata": {
    "ExecuteTime": {
     "end_time": "2025-04-01T17:49:56.209680Z",
     "start_time": "2025-04-01T17:49:48.036132Z"
    }
   },
   "cell_type": "code",
   "source": "data = seeder.generate_model_objects(count=10)",
   "id": "cc45870def6ed38d",
   "outputs": [],
   "execution_count": 11
  },
  {
   "metadata": {
    "ExecuteTime": {
     "end_time": "2025-04-01T17:49:58.838664Z",
     "start_time": "2025-04-01T17:49:58.834424Z"
    }
   },
   "cell_type": "code",
   "source": "data[0].prep_time",
   "id": "7a01cca5eeb51699",
   "outputs": [
    {
     "data": {
      "text/plain": [
       "23"
      ]
     },
     "execution_count": 12,
     "metadata": {},
     "output_type": "execute_result"
    }
   ],
   "execution_count": 12
  },
  {
   "metadata": {
    "ExecuteTime": {
     "end_time": "2025-03-29T22:44:05.121838Z",
     "start_time": "2025-03-29T22:44:01.394939Z"
    }
   },
   "cell_type": "code",
   "source": [
    "\n",
    "from dandy.debug import DebugRecorder\n",
    "\n",
    "DebugRecorder.start_recording(debugger_name='seeding')\n",
    "\n",
    "intel = recipe_seed._llm_seed_data(count=10)\n",
    "\n",
    "DebugRecorder.stop_recording('seeding')\n",
    "DebugRecorder.to_html_file('seeding')"
   ],
   "id": "44d46c3a794cfef9",
   "outputs": [],
   "execution_count": 8
  },
  {
   "metadata": {
    "ExecuteTime": {
     "end_time": "2025-03-29T22:44:05.691214Z",
     "start_time": "2025-03-29T22:44:05.686605Z"
    }
   },
   "cell_type": "code",
   "source": "intel",
   "id": "b66a87adbba6c97",
   "outputs": [
    {
     "data": {
      "text/plain": [
       "{'items': [{'name': 'Baked Chicken',\n",
       "   'description': 'This is a Cooking course type Baked Chicken recipe.',\n",
       "   'course': 'bre'},\n",
       "  {'name': 'Grilled Salmon',\n",
       "   'description': 'This is a Grilling course type Grilled Salmon recipe.',\n",
       "   'course': 'sal'},\n",
       "  {'name': 'Roasted Vegetables',\n",
       "   'description': 'This is a Roasting course type Roasted Vegetables recipe.',\n",
       "   'course': 'bre'},\n",
       "  {'name': 'Pan-Seared Steak',\n",
       "   'description': 'This is a Pan Searing course type Pan-Seared Steak recipe.',\n",
       "   'course': 'mai'},\n",
       "  {'name': 'Baked Salmon',\n",
       "   'description': 'This is a Baking course type Baked Salmon recipe.',\n",
       "   'course': 'sal'},\n",
       "  {'name': 'Grilled Chicken',\n",
       "   'description': 'This is a Grilling course type Grilled Chicken recipe.',\n",
       "   'course': 'bre'},\n",
       "  {'name': 'Roasted Chicken',\n",
       "   'description': 'This is a Roasting course type Roasted Chicken recipe.',\n",
       "   'course': 'bre'},\n",
       "  {'name': 'Pan-Seared Shrimp',\n",
       "   'description': 'This is a Pan Searing course type Pan-Seared Shrimp recipe.',\n",
       "   'course': 'mai'},\n",
       "  {'name': 'Baked Steak',\n",
       "   'description': 'This is a Baking course type Baked Steak recipe.',\n",
       "   'course': 'mai'},\n",
       "  {'name': 'Grilled Tofu',\n",
       "   'description': 'This is a Grilling course type Grilled Tofu recipe.',\n",
       "   'course': 'bre'}]}"
      ]
     },
     "execution_count": 9,
     "metadata": {},
     "output_type": "execute_result"
    }
   ],
   "execution_count": 9
  },
  {
   "metadata": {
    "ExecuteTime": {
     "end_time": "2025-03-29T22:34:33.262183Z",
     "start_time": "2025-03-29T22:34:33.258679Z"
    }
   },
   "cell_type": "code",
   "source": "recipies = [Recipe(**intel.model_dump(mode='json')) for intel in intel]",
   "id": "c9e1b542a8cb85d1",
   "outputs": [],
   "execution_count": 6
  },
  {
   "metadata": {
    "ExecuteTime": {
     "end_time": "2025-03-29T22:35:02.644759Z",
     "start_time": "2025-03-29T22:35:02.603813Z"
    }
   },
   "cell_type": "code",
   "source": [
    "\n",
    "Recipe.objects.bulk_create(recipies)"
   ],
   "id": "1b56ad204c3e21b",
   "outputs": [
    {
     "data": {
      "text/plain": [
       "[<Recipe: Lasagna>,\n",
       " <Recipe: Fettuccine Alfredo>,\n",
       " <Recipe: Spaghetti Bolognese>,\n",
       " <Recipe: Chicken Fettuccine>,\n",
       " <Recipe: Beef Stroganoff>,\n",
       " <Recipe: Chicken Parmesan>,\n",
       " <Recipe: Meatball Subs>,\n",
       " <Recipe: Chicken Tikka Masala>,\n",
       " <Recipe: Beef Wellington>,\n",
       " <Recipe: Eggs Benedict>]"
      ]
     },
     "execution_count": 9,
     "metadata": {},
     "output_type": "execute_result"
    }
   ],
   "execution_count": 9
  },
  {
   "metadata": {},
   "cell_type": "code",
   "outputs": [],
   "execution_count": null,
   "source": "objs = Recipe.objects.all()",
   "id": "1596defef6d89133"
  },
  {
   "metadata": {
    "ExecuteTime": {
     "end_time": "2025-03-29T20:14:18.719260Z",
     "start_time": "2025-03-29T20:14:18.715608Z"
    }
   },
   "cell_type": "code",
   "source": [
    "for obj in objs:\n",
    "    print(obj.course)"
   ],
   "id": "b68488269b3afd2a",
   "outputs": [
    {
     "name": "stdout",
     "output_type": "stream",
     "text": [
      "mai\n",
      "mai\n",
      "mai\n",
      "mai\n",
      "mai\n"
     ]
    }
   ],
   "execution_count": 5
  },
  {
   "metadata": {},
   "cell_type": "code",
   "outputs": [],
   "execution_count": null,
   "source": "",
   "id": "e74d0a5ba9ed8581"
  }
 ],
 "metadata": {
  "kernelspec": {
   "display_name": "Python 3",
   "language": "python",
   "name": "python3"
  },
  "language_info": {
   "codemirror_mode": {
    "name": "ipython",
    "version": 2
   },
   "file_extension": ".py",
   "mimetype": "text/x-python",
   "name": "python",
   "nbconvert_exporter": "python",
   "pygments_lexer": "ipython2",
   "version": "2.7.6"
  }
 },
 "nbformat": 4,
 "nbformat_minor": 5
}
