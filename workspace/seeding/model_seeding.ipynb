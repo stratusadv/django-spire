{
 "cells": [
  {
   "metadata": {
    "ExecuteTime": {
     "end_time": "2025-03-29T22:43:17.297170Z",
     "start_time": "2025-03-29T22:43:16.592301Z"
    }
   },
   "cell_type": "code",
   "source": [
    "from workspace.setup_jupyter_env import *\n",
    "from django_spire.seeding.seeding import ModelSeeding\n",
    "from example.cookbook.recipe.models import Recipe\n",
    "\n",
    "from dandy.llm import Prompt"
   ],
   "id": "4c89d328e97e6c7b",
   "outputs": [],
   "execution_count": 1
  },
  {
   "metadata": {
    "ExecuteTime": {
     "end_time": "2025-03-29T22:44:00.550394Z",
     "start_time": "2025-03-29T22:44:00.546717Z"
    }
   },
   "cell_type": "code",
   "source": [
    "recipe_seed = ModelSeeding(\n",
    "    model_class=Recipe,\n",
    "    fields = {\n",
    "        'name': ('faker', 'name'),\n",
    "        'description': ('llm', ),\n",
    "        'course': ('llm', 'Choose a course that matches the name of the recipe.'),\n",
    "        'prep_time': ('faker', 5-100),\n",
    "        'cook_time': 'faker',\n",
    "        'servings': 'faker',\n",
    "    },\n",
    "    exclude_fields=['id'],\n",
    ")\n",
    "recipe_seed.generate_model_objects(count=10)"
   ],
   "id": "98efe6e0e68aae76",
   "outputs": [],
   "execution_count": 6
  },
  {
   "metadata": {
    "ExecuteTime": {
     "end_time": "2025-03-29T22:44:00.839862Z",
     "start_time": "2025-03-29T22:44:00.835667Z"
    }
   },
   "cell_type": "code",
   "source": "recipe_seed.prompt.to_str()",
   "id": "cc45870def6ed38d",
   "outputs": [
    {
     "data": {
      "text/plain": [
       "''"
      ]
     },
     "execution_count": 7,
     "metadata": {},
     "output_type": "execute_result"
    }
   ],
   "execution_count": 7
  },
  {
   "metadata": {
    "ExecuteTime": {
     "end_time": "2025-03-29T22:44:05.121838Z",
     "start_time": "2025-03-29T22:44:01.394939Z"
    }
   },
   "cell_type": "code",
   "source": [
    "\n",
    "from dandy.debug import DebugRecorder\n",
    "\n",
    "DebugRecorder.start_recording(debugger_name='seeding')\n",
    "\n",
    "intel = recipe_seed._llm_seed_data(count=10)\n",
    "\n",
    "DebugRecorder.stop_recording('seeding')\n",
    "DebugRecorder.to_html_file('seeding')"
   ],
   "id": "44d46c3a794cfef9",
   "outputs": [],
   "execution_count": 8
  },
  {
   "metadata": {
    "ExecuteTime": {
     "end_time": "2025-03-29T22:44:05.691214Z",
     "start_time": "2025-03-29T22:44:05.686605Z"
    }
   },
   "cell_type": "code",
   "source": "intel",
   "id": "b66a87adbba6c97",
   "outputs": [
    {
     "data": {
      "text/plain": [
       "{'items': [{'name': 'Baked Chicken',\n",
       "   'description': 'This is a Cooking course type Baked Chicken recipe.',\n",
       "   'course': 'bre'},\n",
       "  {'name': 'Grilled Salmon',\n",
       "   'description': 'This is a Grilling course type Grilled Salmon recipe.',\n",
       "   'course': 'sal'},\n",
       "  {'name': 'Roasted Vegetables',\n",
       "   'description': 'This is a Roasting course type Roasted Vegetables recipe.',\n",
       "   'course': 'bre'},\n",
       "  {'name': 'Pan-Seared Steak',\n",
       "   'description': 'This is a Pan Searing course type Pan-Seared Steak recipe.',\n",
       "   'course': 'mai'},\n",
       "  {'name': 'Baked Salmon',\n",
       "   'description': 'This is a Baking course type Baked Salmon recipe.',\n",
       "   'course': 'sal'},\n",
       "  {'name': 'Grilled Chicken',\n",
       "   'description': 'This is a Grilling course type Grilled Chicken recipe.',\n",
       "   'course': 'bre'},\n",
       "  {'name': 'Roasted Chicken',\n",
       "   'description': 'This is a Roasting course type Roasted Chicken recipe.',\n",
       "   'course': 'bre'},\n",
       "  {'name': 'Pan-Seared Shrimp',\n",
       "   'description': 'This is a Pan Searing course type Pan-Seared Shrimp recipe.',\n",
       "   'course': 'mai'},\n",
       "  {'name': 'Baked Steak',\n",
       "   'description': 'This is a Baking course type Baked Steak recipe.',\n",
       "   'course': 'mai'},\n",
       "  {'name': 'Grilled Tofu',\n",
       "   'description': 'This is a Grilling course type Grilled Tofu recipe.',\n",
       "   'course': 'bre'}]}"
      ]
     },
     "execution_count": 9,
     "metadata": {},
     "output_type": "execute_result"
    }
   ],
   "execution_count": 9
  },
  {
   "metadata": {
    "ExecuteTime": {
     "end_time": "2025-03-29T22:34:33.262183Z",
     "start_time": "2025-03-29T22:34:33.258679Z"
    }
   },
   "cell_type": "code",
   "source": "recipies = [Recipe(**intel.model_dump(mode='json')) for intel in intel]",
   "id": "c9e1b542a8cb85d1",
   "outputs": [],
   "execution_count": 6
  },
  {
   "metadata": {
    "ExecuteTime": {
     "end_time": "2025-03-29T22:35:02.644759Z",
     "start_time": "2025-03-29T22:35:02.603813Z"
    }
   },
   "cell_type": "code",
   "source": [
    "\n",
    "Recipe.objects.bulk_create(recipies)"
   ],
   "id": "1b56ad204c3e21b",
   "outputs": [
    {
     "data": {
      "text/plain": [
       "[<Recipe: Lasagna>,\n",
       " <Recipe: Fettuccine Alfredo>,\n",
       " <Recipe: Spaghetti Bolognese>,\n",
       " <Recipe: Chicken Fettuccine>,\n",
       " <Recipe: Beef Stroganoff>,\n",
       " <Recipe: Chicken Parmesan>,\n",
       " <Recipe: Meatball Subs>,\n",
       " <Recipe: Chicken Tikka Masala>,\n",
       " <Recipe: Beef Wellington>,\n",
       " <Recipe: Eggs Benedict>]"
      ]
     },
     "execution_count": 9,
     "metadata": {},
     "output_type": "execute_result"
    }
   ],
   "execution_count": 9
  },
  {
   "metadata": {},
   "cell_type": "code",
   "outputs": [],
   "execution_count": null,
   "source": "objs = Recipe.objects.all()",
   "id": "1596defef6d89133"
  },
  {
   "metadata": {
    "ExecuteTime": {
     "end_time": "2025-03-29T20:14:18.719260Z",
     "start_time": "2025-03-29T20:14:18.715608Z"
    }
   },
   "cell_type": "code",
   "source": [
    "for obj in objs:\n",
    "    print(obj.course)"
   ],
   "id": "b68488269b3afd2a",
   "outputs": [
    {
     "name": "stdout",
     "output_type": "stream",
     "text": [
      "mai\n",
      "mai\n",
      "mai\n",
      "mai\n",
      "mai\n"
     ]
    }
   ],
   "execution_count": 5
  },
  {
   "metadata": {},
   "cell_type": "code",
   "outputs": [],
   "execution_count": null,
   "source": "",
   "id": "e74d0a5ba9ed8581"
  }
 ],
 "metadata": {
  "kernelspec": {
   "display_name": "Python 3",
   "language": "python",
   "name": "python3"
  },
  "language_info": {
   "codemirror_mode": {
    "name": "ipython",
    "version": 2
   },
   "file_extension": ".py",
   "mimetype": "text/x-python",
   "name": "python",
   "nbconvert_exporter": "python",
   "pygments_lexer": "ipython2",
   "version": "2.7.6"
  }
 },
 "nbformat": 4,
 "nbformat_minor": 5
}
