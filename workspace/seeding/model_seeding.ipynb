{
 "cells": [
  {
   "metadata": {
    "ExecuteTime": {
     "end_time": "2025-04-03T20:10:07.284409Z",
     "start_time": "2025-04-03T20:10:06.521347Z"
    }
   },
   "cell_type": "code",
   "source": "from workspace.setup_jupyter_env import *",
   "id": "6e980a04cef27a0d",
   "outputs": [
    {
     "name": "stdout",
     "output_type": "stream",
     "text": [
      "BaseModelSeeder\n",
      "DjangoModelSeeder\n"
     ]
    }
   ],
   "execution_count": 1
  },
  {
   "metadata": {
    "ExecuteTime": {
     "end_time": "2025-04-03T20:10:08.325874Z",
     "start_time": "2025-04-03T20:10:08.322241Z"
    }
   },
   "cell_type": "code",
   "source": [
    "from django_spire.seeding import DjangoModelSeeder\n",
    "from example.cookbook.recipe.models import Recipe"
   ],
   "id": "f83ae014a6c2b45e",
   "outputs": [],
   "execution_count": 2
  },
  {
   "metadata": {
    "ExecuteTime": {
     "end_time": "2025-04-03T20:10:09.229231Z",
     "start_time": "2025-04-03T20:10:09.225035Z"
    }
   },
   "cell_type": "code",
   "source": [
    "class RecipeSeeder(DjangoModelSeeder):\n",
    "    model_class = Recipe\n",
    "    cache_name = 'recipe_seeder'\n",
    "    fields = {\n",
    "        'id': 'exclude',\n",
    "        'name': 'llm',\n",
    "        'description': ('llm', 'Make soups!'),\n",
    "        'course': 'faker',\n",
    "        'prep_time': ('faker', 'random_int', {'min': 5, 'max': 30}),\n",
    "        'cook_time': 'faker',\n",
    "        'servings': 'faker',\n",
    "    }\n",
    "    default_to = 'llm'"
   ],
   "id": "19e8af5ecd8cc425",
   "outputs": [
    {
     "name": "stdout",
     "output_type": "stream",
     "text": [
      "RecipeSeeder\n"
     ]
    }
   ],
   "execution_count": 3
  },
  {
   "metadata": {
    "ExecuteTime": {
     "end_time": "2025-04-03T20:10:10.221719Z",
     "start_time": "2025-04-03T20:10:10.216232Z"
    }
   },
   "cell_type": "code",
   "source": "RecipeSeeder.fields",
   "id": "ea3f48de1eacd391",
   "outputs": [
    {
     "data": {
      "text/plain": [
       "{'name': ('llm',),\n",
       " 'description': ('llm', 'Make soups!'),\n",
       " 'course': ('faker',),\n",
       " 'prep_time': ('faker', 'random_int', {'min': 5, 'max': 30}),\n",
       " 'cook_time': ('faker',),\n",
       " 'servings': ('faker',),\n",
       " 'is_active': ('llm',),\n",
       " 'is_deleted': ('llm',),\n",
       " 'created_datetime': ('llm',)}"
      ]
     },
     "execution_count": 4,
     "metadata": {},
     "output_type": "execute_result"
    }
   ],
   "execution_count": 4
  },
  {
   "metadata": {
    "ExecuteTime": {
     "end_time": "2025-04-03T20:10:44.127210Z",
     "start_time": "2025-04-03T20:10:35.989659Z"
    }
   },
   "cell_type": "code",
   "source": "data = RecipeSeeder.seed(count=10)",
   "id": "b265e7bc7197908b",
   "outputs": [],
   "execution_count": 8
  },
  {
   "metadata": {
    "ExecuteTime": {
     "end_time": "2025-04-03T20:10:34.704394Z",
     "start_time": "2025-04-03T20:10:34.653213Z"
    }
   },
   "cell_type": "code",
   "source": "RecipeSeeder.clear_cache()",
   "id": "ba8413c8947cc229",
   "outputs": [],
   "execution_count": 7
  },
  {
   "metadata": {
    "ExecuteTime": {
     "end_time": "2025-04-03T19:23:31.486506300Z",
     "start_time": "2025-04-03T18:08:06.705511Z"
    }
   },
   "cell_type": "code",
   "source": "RecipeSeeder.clear_cache()",
   "id": "c7423c0262394311",
   "outputs": [],
   "execution_count": 5
  },
  {
   "metadata": {},
   "cell_type": "code",
   "outputs": [],
   "execution_count": null,
   "source": "data[7].prep_time",
   "id": "effa8148d682c994"
  },
  {
   "metadata": {},
   "cell_type": "code",
   "outputs": [],
   "execution_count": null,
   "source": [
    "\n",
    "from dandy.debug import DebugRecorder\n",
    "\n",
    "DebugRecorder.start_recording(debugger_name='seeding')\n",
    "\n",
    "intel = recipe_seed._llm_seed_data(count=10)\n",
    "\n",
    "DebugRecorder.stop_recording('seeding')\n",
    "DebugRecorder.to_html_file('seeding')"
   ],
   "id": "1d3a7db3869e528d"
  },
  {
   "metadata": {
    "ExecuteTime": {
     "end_time": "2025-04-03T19:23:31.489517300Z",
     "start_time": "2025-03-29T22:44:05.686605Z"
    }
   },
   "cell_type": "code",
   "source": "intel",
   "id": "b66a87adbba6c97",
   "outputs": [
    {
     "data": {
      "text/plain": [
       "{'items': [{'name': 'Baked Chicken',\n",
       "   'description': 'This is a Cooking course type Baked Chicken recipe.',\n",
       "   'course': 'bre'},\n",
       "  {'name': 'Grilled Salmon',\n",
       "   'description': 'This is a Grilling course type Grilled Salmon recipe.',\n",
       "   'course': 'sal'},\n",
       "  {'name': 'Roasted Vegetables',\n",
       "   'description': 'This is a Roasting course type Roasted Vegetables recipe.',\n",
       "   'course': 'bre'},\n",
       "  {'name': 'Pan-Seared Steak',\n",
       "   'description': 'This is a Pan Searing course type Pan-Seared Steak recipe.',\n",
       "   'course': 'mai'},\n",
       "  {'name': 'Baked Salmon',\n",
       "   'description': 'This is a Baking course type Baked Salmon recipe.',\n",
       "   'course': 'sal'},\n",
       "  {'name': 'Grilled Chicken',\n",
       "   'description': 'This is a Grilling course type Grilled Chicken recipe.',\n",
       "   'course': 'bre'},\n",
       "  {'name': 'Roasted Chicken',\n",
       "   'description': 'This is a Roasting course type Roasted Chicken recipe.',\n",
       "   'course': 'bre'},\n",
       "  {'name': 'Pan-Seared Shrimp',\n",
       "   'description': 'This is a Pan Searing course type Pan-Seared Shrimp recipe.',\n",
       "   'course': 'mai'},\n",
       "  {'name': 'Baked Steak',\n",
       "   'description': 'This is a Baking course type Baked Steak recipe.',\n",
       "   'course': 'mai'},\n",
       "  {'name': 'Grilled Tofu',\n",
       "   'description': 'This is a Grilling course type Grilled Tofu recipe.',\n",
       "   'course': 'bre'}]}"
      ]
     },
     "execution_count": 9,
     "metadata": {},
     "output_type": "execute_result"
    }
   ],
   "execution_count": 9
  },
  {
   "metadata": {
    "ExecuteTime": {
     "end_time": "2025-04-03T19:23:31.510124700Z",
     "start_time": "2025-03-29T22:34:33.258679Z"
    }
   },
   "cell_type": "code",
   "source": "recipies = [Recipe(**intel.model_dump(mode='json')) for intel in intel]",
   "id": "c9e1b542a8cb85d1",
   "outputs": [],
   "execution_count": 6
  },
  {
   "metadata": {
    "ExecuteTime": {
     "end_time": "2025-04-03T19:23:31.514629700Z",
     "start_time": "2025-03-29T22:35:02.603813Z"
    }
   },
   "cell_type": "code",
   "source": [
    "\n",
    "Recipe.objects.bulk_create(recipies)"
   ],
   "id": "1b56ad204c3e21b",
   "outputs": [
    {
     "data": {
      "text/plain": [
       "[<Recipe: Lasagna>,\n",
       " <Recipe: Fettuccine Alfredo>,\n",
       " <Recipe: Spaghetti Bolognese>,\n",
       " <Recipe: Chicken Fettuccine>,\n",
       " <Recipe: Beef Stroganoff>,\n",
       " <Recipe: Chicken Parmesan>,\n",
       " <Recipe: Meatball Subs>,\n",
       " <Recipe: Chicken Tikka Masala>,\n",
       " <Recipe: Beef Wellington>,\n",
       " <Recipe: Eggs Benedict>]"
      ]
     },
     "execution_count": 9,
     "metadata": {},
     "output_type": "execute_result"
    }
   ],
   "execution_count": 9
  },
  {
   "metadata": {},
   "cell_type": "code",
   "outputs": [],
   "execution_count": null,
   "source": "objs = Recipe.objects.all()",
   "id": "1596defef6d89133"
  },
  {
   "metadata": {
    "ExecuteTime": {
     "end_time": "2025-04-03T19:23:31.612714900Z",
     "start_time": "2025-03-29T20:14:18.715608Z"
    }
   },
   "cell_type": "code",
   "source": [
    "for obj in objs:\n",
    "    print(obj.course)"
   ],
   "id": "b68488269b3afd2a",
   "outputs": [
    {
     "name": "stdout",
     "output_type": "stream",
     "text": [
      "mai\n",
      "mai\n",
      "mai\n",
      "mai\n",
      "mai\n"
     ]
    }
   ],
   "execution_count": 5
  },
  {
   "metadata": {},
   "cell_type": "code",
   "outputs": [],
   "execution_count": null,
   "source": "",
   "id": "e74d0a5ba9ed8581"
  }
 ],
 "metadata": {
  "kernelspec": {
   "display_name": "Python 3",
   "language": "python",
   "name": "python3"
  },
  "language_info": {
   "codemirror_mode": {
    "name": "ipython",
    "version": 2
   },
   "file_extension": ".py",
   "mimetype": "text/x-python",
   "name": "python",
   "nbconvert_exporter": "python",
   "pygments_lexer": "ipython2",
   "version": "2.7.6"
  }
 },
 "nbformat": 4,
 "nbformat_minor": 5
}
