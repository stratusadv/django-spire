{
 "cells": [
  {
   "cell_type": "code",
   "id": "initial_id",
   "metadata": {
    "collapsed": true,
    "ExecuteTime": {
     "end_time": "2025-03-29T16:56:33.418137Z",
     "start_time": "2025-03-29T16:56:32.987276Z"
    }
   },
   "source": "from workspace.setup_jupyter_env import *",
   "outputs": [],
   "execution_count": 1
  },
  {
   "metadata": {
    "ExecuteTime": {
     "end_time": "2025-03-29T16:56:34.150555Z",
     "start_time": "2025-03-29T16:56:34.088951Z"
    }
   },
   "cell_type": "code",
   "source": [
    "from django.db import models\n",
    "from django_spire.core.converters import django_to_pydantic_model\n",
    "from pprint import pprint\n",
    "from django.utils.timezone import now"
   ],
   "id": "72ecbec8ee9b7969",
   "outputs": [],
   "execution_count": 2
  },
  {
   "metadata": {
    "ExecuteTime": {
     "end_time": "2025-03-29T16:56:34.313623Z",
     "start_time": "2025-03-29T16:56:34.308753Z"
    }
   },
   "cell_type": "code",
   "source": [
    "class Person(models.Model):\n",
    "    first_name = models.CharField(max_length=16)\n",
    "    last_name = models.CharField(max_length=32)\n",
    "    phone_number = models.CharField(max_length=16)\n",
    "    age = models.IntegerField()\n",
    "    birth_date = models.DateField(default=now)\n",
    "    fav_datetime = models.DateTimeField()\n",
    "    weight = models.DecimalField(max_digits=5, decimal_places=2)\n",
    "\n",
    "    class Meta:\n",
    "        managed = False\n",
    "        app_label = 'fake_news'"
   ],
   "id": "e70ff7ca79942791",
   "outputs": [],
   "execution_count": 3
  },
  {
   "metadata": {
    "ExecuteTime": {
     "end_time": "2025-03-29T16:56:35.267492Z",
     "start_time": "2025-03-29T16:56:35.220794Z"
    }
   },
   "cell_type": "code",
   "source": "PydanticPerson = django_to_pydantic_model(Person, exclude=['id'])",
   "id": "5be5ff57de00aeb2",
   "outputs": [],
   "execution_count": 4
  },
  {
   "metadata": {
    "ExecuteTime": {
     "end_time": "2025-03-29T16:56:36.550955Z",
     "start_time": "2025-03-29T16:56:36.546875Z"
    }
   },
   "cell_type": "code",
   "source": [
    "person = PydanticPerson(\n",
    "    first_name=\"John\",\n",
    "    last_name=\"Doe\",\n",
    "    phone_number=\"123-456-7890\",\n",
    "    age=30,\n",
    "    fav_datetime='2022-01-01 12:00:00',\n",
    "    weight=180.5\n",
    ")"
   ],
   "id": "519d134129d531e6",
   "outputs": [],
   "execution_count": 5
  },
  {
   "metadata": {
    "ExecuteTime": {
     "end_time": "2025-03-29T16:56:42.562411Z",
     "start_time": "2025-03-29T16:56:42.551227Z"
    }
   },
   "cell_type": "code",
   "source": "person.model_json_schema()",
   "id": "4dce36c764f9e317",
   "outputs": [
    {
     "data": {
      "text/plain": [
       "{'properties': {'first_name': {'field_name': 'first_name',\n",
       "   'is_required': True,\n",
       "   'is_unique': False,\n",
       "   'maxLength': 16,\n",
       "   'title': 'First Name',\n",
       "   'type': 'string'},\n",
       "  'last_name': {'field_name': 'last_name',\n",
       "   'is_required': True,\n",
       "   'is_unique': False,\n",
       "   'maxLength': 32,\n",
       "   'title': 'Last Name',\n",
       "   'type': 'string'},\n",
       "  'phone_number': {'field_name': 'phone_number',\n",
       "   'is_required': True,\n",
       "   'is_unique': False,\n",
       "   'maxLength': 16,\n",
       "   'title': 'Phone Number',\n",
       "   'type': 'string'},\n",
       "  'age': {'field_name': 'age',\n",
       "   'is_required': True,\n",
       "   'is_unique': False,\n",
       "   'maximum': 2147483647,\n",
       "   'minimum': -2147483648,\n",
       "   'title': 'Age',\n",
       "   'type': 'integer'},\n",
       "  'birth_date': {'default': '2025-03-29T16:56:35.222790Z',\n",
       "   'example': '2022-01-01',\n",
       "   'field_name': 'birth_date',\n",
       "   'format': 'date',\n",
       "   'is_required': True,\n",
       "   'is_unique': False,\n",
       "   'title': 'Birth Date',\n",
       "   'type': 'string'},\n",
       "  'fav_datetime': {'example': '2022-01-01 13:37:00',\n",
       "   'field_name': 'fav_datetime',\n",
       "   'format': 'date-time',\n",
       "   'is_required': True,\n",
       "   'is_unique': False,\n",
       "   'title': 'Fav Datetime',\n",
       "   'type': 'string'},\n",
       "  'weight': {'anyOf': [{'type': 'number'}, {'type': 'string'}],\n",
       "   'decimal_places': 2,\n",
       "   'example': '0.00',\n",
       "   'field_name': 'weight',\n",
       "   'is_required': True,\n",
       "   'is_unique': False,\n",
       "   'max_digits': 5,\n",
       "   'title': 'Weight'}},\n",
       " 'required': ['first_name',\n",
       "  'last_name',\n",
       "  'phone_number',\n",
       "  'age',\n",
       "  'fav_datetime',\n",
       "  'weight'],\n",
       " 'title': 'Person',\n",
       " 'type': 'object'}"
      ]
     },
     "execution_count": 7,
     "metadata": {},
     "output_type": "execute_result"
    }
   ],
   "execution_count": 7
  },
  {
   "metadata": {},
   "cell_type": "code",
   "outputs": [],
   "execution_count": null,
   "source": "",
   "id": "236ec0d9585af658"
  }
 ],
 "metadata": {
  "kernelspec": {
   "display_name": "Python 3",
   "language": "python",
   "name": "python3"
  },
  "language_info": {
   "codemirror_mode": {
    "name": "ipython",
    "version": 2
   },
   "file_extension": ".py",
   "mimetype": "text/x-python",
   "name": "python",
   "nbconvert_exporter": "python",
   "pygments_lexer": "ipython2",
   "version": "2.7.6"
  }
 },
 "nbformat": 4,
 "nbformat_minor": 5
}
